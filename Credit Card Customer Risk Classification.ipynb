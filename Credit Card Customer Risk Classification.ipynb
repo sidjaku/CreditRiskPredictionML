{
 "cells": [
  {
   "cell_type": "code",
   "execution_count": 1,
   "id": "a32a9eca",
   "metadata": {},
   "outputs": [],
   "source": [
    "import pandas as pd\n",
    "import numpy as np\n",
    "import matplotlib.pyplot as plt\n",
    "import seaborn as sns"
   ]
  },
  {
   "cell_type": "code",
   "execution_count": 2,
   "id": "8d1fb9ae",
   "metadata": {},
   "outputs": [],
   "source": [
    "df = pd.read_csv(\"C:/Users/sidja/Documents/Intellipaat/Python/Stats & ML/Kaggle Datasets/Credit Card - Cleaning & Classification/clean_data/clean_data.csv\")"
   ]
  },
  {
   "cell_type": "markdown",
   "id": "862c22a8",
   "metadata": {},
   "source": [
    "# Columns Description & Task\n",
    "\n",
    "* ID - This is the person's id\n",
    "* Gender  - 0 is for Female & 1 is for Male\n",
    "* Own_car - Whether the person ows a car\n",
    "* Own_property - Whether the person has his own property\n",
    "* Work_phone - Whether he has a work phone\n",
    "* Phone - Whether he owns a personal phone\n",
    "* Email - Whether he has an email\n",
    "* Unemployed - Whether is currently unemployed\n",
    "* Num_children - Number of children in his family\n",
    "* Num_family - Number of family members\n",
    "* Account_length - Years since the account has been open\n",
    "* Total_income - Total income of the person\n",
    "* Age - The age of the person\n",
    "* Years_employed - Total years of employment\n",
    "* Income_type - Source of Income\n",
    "* Education_type - Highest Education\n",
    "* Family_status - Relationship Status\n",
    "* Housing_type - Type of housing\n",
    "* Occupation_type - Type of Work\n",
    "* Target - 1 for high risk, 0 for low risk\n",
    "\n",
    "\n",
    "**The task in hand is to predict whether the customer is at high(1) or low(0) risk of default, based on which the bank decides whether to give the person a credit card or not**"
   ]
  },
  {
   "cell_type": "markdown",
   "id": "695906bd",
   "metadata": {},
   "source": [
    "# Data Pre-Processing"
   ]
  },
  {
   "cell_type": "code",
   "execution_count": 3,
   "id": "186d700e",
   "metadata": {
    "scrolled": false
   },
   "outputs": [
    {
     "data": {
      "text/html": [
       "<div>\n",
       "<style scoped>\n",
       "    .dataframe tbody tr th:only-of-type {\n",
       "        vertical-align: middle;\n",
       "    }\n",
       "\n",
       "    .dataframe tbody tr th {\n",
       "        vertical-align: top;\n",
       "    }\n",
       "\n",
       "    .dataframe thead th {\n",
       "        text-align: right;\n",
       "    }\n",
       "</style>\n",
       "<table border=\"1\" class=\"dataframe\">\n",
       "  <thead>\n",
       "    <tr style=\"text-align: right;\">\n",
       "      <th></th>\n",
       "      <th>ID</th>\n",
       "      <th>Gender</th>\n",
       "      <th>Own_car</th>\n",
       "      <th>Own_property</th>\n",
       "      <th>Work_phone</th>\n",
       "      <th>Phone</th>\n",
       "      <th>Email</th>\n",
       "      <th>Unemployed</th>\n",
       "      <th>Num_children</th>\n",
       "      <th>Num_family</th>\n",
       "      <th>...</th>\n",
       "      <th>Age</th>\n",
       "      <th>Years_employed</th>\n",
       "      <th>Income_type</th>\n",
       "      <th>Education_type</th>\n",
       "      <th>Family_status</th>\n",
       "      <th>Housing_type</th>\n",
       "      <th>Occupation_type</th>\n",
       "      <th>Target</th>\n",
       "      <th>Unnamed: 20</th>\n",
       "      <th>Unnamed: 21</th>\n",
       "    </tr>\n",
       "  </thead>\n",
       "  <tbody>\n",
       "    <tr>\n",
       "      <th>0</th>\n",
       "      <td>5008804</td>\n",
       "      <td>Male</td>\n",
       "      <td>Yes</td>\n",
       "      <td>Yes</td>\n",
       "      <td>Yes</td>\n",
       "      <td>No</td>\n",
       "      <td>No</td>\n",
       "      <td>No</td>\n",
       "      <td>0</td>\n",
       "      <td>2</td>\n",
       "      <td>...</td>\n",
       "      <td>32.868574</td>\n",
       "      <td>12.435574</td>\n",
       "      <td>Working</td>\n",
       "      <td>Higher education</td>\n",
       "      <td>Civil marriage</td>\n",
       "      <td>Rented apartment</td>\n",
       "      <td>Other</td>\n",
       "      <td>Yes</td>\n",
       "      <td>NaN</td>\n",
       "      <td>NaN</td>\n",
       "    </tr>\n",
       "    <tr>\n",
       "      <th>1</th>\n",
       "      <td>5008806</td>\n",
       "      <td>Male</td>\n",
       "      <td>Yes</td>\n",
       "      <td>Yes</td>\n",
       "      <td>No</td>\n",
       "      <td>No</td>\n",
       "      <td>No</td>\n",
       "      <td>No</td>\n",
       "      <td>0</td>\n",
       "      <td>2</td>\n",
       "      <td>...</td>\n",
       "      <td>58.793815</td>\n",
       "      <td>3.104787</td>\n",
       "      <td>Working</td>\n",
       "      <td>Secondary / secondary special</td>\n",
       "      <td>Married</td>\n",
       "      <td>House / apartment</td>\n",
       "      <td>Security staff</td>\n",
       "      <td>No</td>\n",
       "      <td>NaN</td>\n",
       "      <td>NaN</td>\n",
       "    </tr>\n",
       "    <tr>\n",
       "      <th>2</th>\n",
       "      <td>5008808</td>\n",
       "      <td>Female</td>\n",
       "      <td>No</td>\n",
       "      <td>Yes</td>\n",
       "      <td>No</td>\n",
       "      <td>Yes</td>\n",
       "      <td>Yes</td>\n",
       "      <td>No</td>\n",
       "      <td>0</td>\n",
       "      <td>1</td>\n",
       "      <td>...</td>\n",
       "      <td>52.321403</td>\n",
       "      <td>8.353354</td>\n",
       "      <td>Commercial associate</td>\n",
       "      <td>Secondary / secondary special</td>\n",
       "      <td>Single / not married</td>\n",
       "      <td>House / apartment</td>\n",
       "      <td>Sales staff</td>\n",
       "      <td>No</td>\n",
       "      <td>NaN</td>\n",
       "      <td>NaN</td>\n",
       "    </tr>\n",
       "    <tr>\n",
       "      <th>3</th>\n",
       "      <td>5008812</td>\n",
       "      <td>Female</td>\n",
       "      <td>No</td>\n",
       "      <td>Yes</td>\n",
       "      <td>No</td>\n",
       "      <td>No</td>\n",
       "      <td>No</td>\n",
       "      <td>Yes</td>\n",
       "      <td>0</td>\n",
       "      <td>1</td>\n",
       "      <td>...</td>\n",
       "      <td>61.504343</td>\n",
       "      <td>0.000000</td>\n",
       "      <td>Pensioner</td>\n",
       "      <td>Higher education</td>\n",
       "      <td>Separated</td>\n",
       "      <td>House / apartment</td>\n",
       "      <td>Other</td>\n",
       "      <td>No</td>\n",
       "      <td>NaN</td>\n",
       "      <td>NaN</td>\n",
       "    </tr>\n",
       "    <tr>\n",
       "      <th>4</th>\n",
       "      <td>5008815</td>\n",
       "      <td>Male</td>\n",
       "      <td>Yes</td>\n",
       "      <td>Yes</td>\n",
       "      <td>Yes</td>\n",
       "      <td>Yes</td>\n",
       "      <td>Yes</td>\n",
       "      <td>No</td>\n",
       "      <td>0</td>\n",
       "      <td>2</td>\n",
       "      <td>...</td>\n",
       "      <td>46.193967</td>\n",
       "      <td>2.105450</td>\n",
       "      <td>Working</td>\n",
       "      <td>Higher education</td>\n",
       "      <td>Married</td>\n",
       "      <td>House / apartment</td>\n",
       "      <td>Accountants</td>\n",
       "      <td>No</td>\n",
       "      <td>NaN</td>\n",
       "      <td>NaN</td>\n",
       "    </tr>\n",
       "  </tbody>\n",
       "</table>\n",
       "<p>5 rows × 22 columns</p>\n",
       "</div>"
      ],
      "text/plain": [
       "        ID  Gender Own_car Own_property Work_phone Phone Email Unemployed  \\\n",
       "0  5008804    Male     Yes          Yes        Yes    No    No         No   \n",
       "1  5008806    Male     Yes          Yes         No    No    No         No   \n",
       "2  5008808  Female      No          Yes         No   Yes   Yes         No   \n",
       "3  5008812  Female      No          Yes         No    No    No        Yes   \n",
       "4  5008815    Male     Yes          Yes        Yes   Yes   Yes         No   \n",
       "\n",
       "   Num_children  Num_family  ...        Age  Years_employed  \\\n",
       "0             0           2  ...  32.868574       12.435574   \n",
       "1             0           2  ...  58.793815        3.104787   \n",
       "2             0           1  ...  52.321403        8.353354   \n",
       "3             0           1  ...  61.504343        0.000000   \n",
       "4             0           2  ...  46.193967        2.105450   \n",
       "\n",
       "            Income_type                 Education_type         Family_status  \\\n",
       "0               Working               Higher education        Civil marriage   \n",
       "1               Working  Secondary / secondary special               Married   \n",
       "2  Commercial associate  Secondary / secondary special  Single / not married   \n",
       "3             Pensioner               Higher education             Separated   \n",
       "4               Working               Higher education               Married   \n",
       "\n",
       "        Housing_type Occupation_type Target Unnamed: 20 Unnamed: 21  \n",
       "0   Rented apartment           Other    Yes         NaN         NaN  \n",
       "1  House / apartment  Security staff     No         NaN         NaN  \n",
       "2  House / apartment     Sales staff     No         NaN         NaN  \n",
       "3  House / apartment           Other     No         NaN         NaN  \n",
       "4  House / apartment     Accountants     No         NaN         NaN  \n",
       "\n",
       "[5 rows x 22 columns]"
      ]
     },
     "execution_count": 3,
     "metadata": {},
     "output_type": "execute_result"
    }
   ],
   "source": [
    "df.head()"
   ]
  },
  {
   "cell_type": "code",
   "execution_count": 4,
   "id": "d6d0f246",
   "metadata": {},
   "outputs": [
    {
     "data": {
      "text/plain": [
       "(9709, 22)"
      ]
     },
     "execution_count": 4,
     "metadata": {},
     "output_type": "execute_result"
    }
   ],
   "source": [
    "df.shape\n",
    "\n",
    "\n",
    "# The dataset has 9709 rows and 20 columns"
   ]
  },
  {
   "cell_type": "code",
   "execution_count": 7,
   "id": "7be2c1e4",
   "metadata": {},
   "outputs": [],
   "source": [
    "df = df.drop(['Unnamed: 20','Unnamed: 21'], axis = 1)"
   ]
  },
  {
   "cell_type": "code",
   "execution_count": 8,
   "id": "2c46b8c3",
   "metadata": {},
   "outputs": [
    {
     "name": "stdout",
     "output_type": "stream",
     "text": [
      "<class 'pandas.core.frame.DataFrame'>\n",
      "RangeIndex: 9709 entries, 0 to 9708\n",
      "Data columns (total 20 columns):\n",
      " #   Column           Non-Null Count  Dtype  \n",
      "---  ------           --------------  -----  \n",
      " 0   ID               9709 non-null   int64  \n",
      " 1   Gender           9709 non-null   object \n",
      " 2   Own_car          9709 non-null   object \n",
      " 3   Own_property     9709 non-null   object \n",
      " 4   Work_phone       9709 non-null   object \n",
      " 5   Phone            9709 non-null   object \n",
      " 6   Email            9709 non-null   object \n",
      " 7   Unemployed       9709 non-null   object \n",
      " 8   Num_children     9709 non-null   int64  \n",
      " 9   Num_family       9709 non-null   int64  \n",
      " 10  Account_length   9709 non-null   int64  \n",
      " 11  Total_income     9709 non-null   int64  \n",
      " 12  Age              9709 non-null   float64\n",
      " 13  Years_employed   9709 non-null   float64\n",
      " 14  Income_type      9709 non-null   object \n",
      " 15  Education_type   9709 non-null   object \n",
      " 16  Family_status    9709 non-null   object \n",
      " 17  Housing_type     9709 non-null   object \n",
      " 18  Occupation_type  9709 non-null   object \n",
      " 19  Target           9709 non-null   object \n",
      "dtypes: float64(2), int64(5), object(13)\n",
      "memory usage: 1.5+ MB\n"
     ]
    }
   ],
   "source": [
    "df.info()\n",
    "\n",
    "\n",
    "# After having a look at the top 5 rows and comparing the Dtype, we can confirm that the type of data here correctly tagged.\n",
    "# We should now check for missing values & duplicates"
   ]
  },
  {
   "cell_type": "code",
   "execution_count": 9,
   "id": "5d07b521",
   "metadata": {},
   "outputs": [
    {
     "data": {
      "text/plain": [
       "ID                 0\n",
       "Gender             0\n",
       "Own_car            0\n",
       "Own_property       0\n",
       "Work_phone         0\n",
       "Phone              0\n",
       "Email              0\n",
       "Unemployed         0\n",
       "Num_children       0\n",
       "Num_family         0\n",
       "Account_length     0\n",
       "Total_income       0\n",
       "Age                0\n",
       "Years_employed     0\n",
       "Income_type        0\n",
       "Education_type     0\n",
       "Family_status      0\n",
       "Housing_type       0\n",
       "Occupation_type    0\n",
       "Target             0\n",
       "dtype: int64"
      ]
     },
     "execution_count": 9,
     "metadata": {},
     "output_type": "execute_result"
    }
   ],
   "source": [
    "df.isna().sum()\n",
    "\n",
    "# There are no missing values in the dataset"
   ]
  },
  {
   "cell_type": "code",
   "execution_count": 10,
   "id": "804f9d4c",
   "metadata": {},
   "outputs": [
    {
     "data": {
      "text/plain": [
       "0"
      ]
     },
     "execution_count": 10,
     "metadata": {},
     "output_type": "execute_result"
    }
   ],
   "source": [
    "df.duplicated().sum()\n",
    "\n",
    "# There are no duplicates values in the dataset"
   ]
  },
  {
   "cell_type": "code",
   "execution_count": 11,
   "id": "77061206",
   "metadata": {},
   "outputs": [
    {
     "data": {
      "text/html": [
       "<div>\n",
       "<style scoped>\n",
       "    .dataframe tbody tr th:only-of-type {\n",
       "        vertical-align: middle;\n",
       "    }\n",
       "\n",
       "    .dataframe tbody tr th {\n",
       "        vertical-align: top;\n",
       "    }\n",
       "\n",
       "    .dataframe thead th {\n",
       "        text-align: right;\n",
       "    }\n",
       "</style>\n",
       "<table border=\"1\" class=\"dataframe\">\n",
       "  <thead>\n",
       "    <tr style=\"text-align: right;\">\n",
       "      <th></th>\n",
       "      <th>ID</th>\n",
       "      <th>Num_children</th>\n",
       "      <th>Num_family</th>\n",
       "      <th>Account_length</th>\n",
       "      <th>Total_income</th>\n",
       "      <th>Age</th>\n",
       "      <th>Years_employed</th>\n",
       "    </tr>\n",
       "  </thead>\n",
       "  <tbody>\n",
       "    <tr>\n",
       "      <th>count</th>\n",
       "      <td>9.709000e+03</td>\n",
       "      <td>9709.000000</td>\n",
       "      <td>9709.000000</td>\n",
       "      <td>9709.000000</td>\n",
       "      <td>9.709000e+03</td>\n",
       "      <td>9709.000000</td>\n",
       "      <td>9709.000000</td>\n",
       "    </tr>\n",
       "    <tr>\n",
       "      <th>mean</th>\n",
       "      <td>5.076105e+06</td>\n",
       "      <td>0.422804</td>\n",
       "      <td>2.182614</td>\n",
       "      <td>27.270059</td>\n",
       "      <td>1.812282e+05</td>\n",
       "      <td>43.784093</td>\n",
       "      <td>5.664730</td>\n",
       "    </tr>\n",
       "    <tr>\n",
       "      <th>std</th>\n",
       "      <td>4.080270e+04</td>\n",
       "      <td>0.767019</td>\n",
       "      <td>0.932918</td>\n",
       "      <td>16.648057</td>\n",
       "      <td>9.927731e+04</td>\n",
       "      <td>11.625768</td>\n",
       "      <td>6.342241</td>\n",
       "    </tr>\n",
       "    <tr>\n",
       "      <th>min</th>\n",
       "      <td>5.008804e+06</td>\n",
       "      <td>0.000000</td>\n",
       "      <td>1.000000</td>\n",
       "      <td>0.000000</td>\n",
       "      <td>2.700000e+04</td>\n",
       "      <td>20.504186</td>\n",
       "      <td>0.000000</td>\n",
       "    </tr>\n",
       "    <tr>\n",
       "      <th>25%</th>\n",
       "      <td>5.036955e+06</td>\n",
       "      <td>0.000000</td>\n",
       "      <td>2.000000</td>\n",
       "      <td>13.000000</td>\n",
       "      <td>1.125000e+05</td>\n",
       "      <td>34.059563</td>\n",
       "      <td>0.928150</td>\n",
       "    </tr>\n",
       "    <tr>\n",
       "      <th>50%</th>\n",
       "      <td>5.069449e+06</td>\n",
       "      <td>0.000000</td>\n",
       "      <td>2.000000</td>\n",
       "      <td>26.000000</td>\n",
       "      <td>1.575000e+05</td>\n",
       "      <td>42.741466</td>\n",
       "      <td>3.761884</td>\n",
       "    </tr>\n",
       "    <tr>\n",
       "      <th>75%</th>\n",
       "      <td>5.112986e+06</td>\n",
       "      <td>1.000000</td>\n",
       "      <td>3.000000</td>\n",
       "      <td>41.000000</td>\n",
       "      <td>2.250000e+05</td>\n",
       "      <td>53.567151</td>\n",
       "      <td>8.200031</td>\n",
       "    </tr>\n",
       "    <tr>\n",
       "      <th>max</th>\n",
       "      <td>5.150479e+06</td>\n",
       "      <td>19.000000</td>\n",
       "      <td>20.000000</td>\n",
       "      <td>60.000000</td>\n",
       "      <td>1.575000e+06</td>\n",
       "      <td>68.863837</td>\n",
       "      <td>43.020733</td>\n",
       "    </tr>\n",
       "  </tbody>\n",
       "</table>\n",
       "</div>"
      ],
      "text/plain": [
       "                 ID  Num_children   Num_family  Account_length  Total_income  \\\n",
       "count  9.709000e+03   9709.000000  9709.000000     9709.000000  9.709000e+03   \n",
       "mean   5.076105e+06      0.422804     2.182614       27.270059  1.812282e+05   \n",
       "std    4.080270e+04      0.767019     0.932918       16.648057  9.927731e+04   \n",
       "min    5.008804e+06      0.000000     1.000000        0.000000  2.700000e+04   \n",
       "25%    5.036955e+06      0.000000     2.000000       13.000000  1.125000e+05   \n",
       "50%    5.069449e+06      0.000000     2.000000       26.000000  1.575000e+05   \n",
       "75%    5.112986e+06      1.000000     3.000000       41.000000  2.250000e+05   \n",
       "max    5.150479e+06     19.000000    20.000000       60.000000  1.575000e+06   \n",
       "\n",
       "               Age  Years_employed  \n",
       "count  9709.000000     9709.000000  \n",
       "mean     43.784093        5.664730  \n",
       "std      11.625768        6.342241  \n",
       "min      20.504186        0.000000  \n",
       "25%      34.059563        0.928150  \n",
       "50%      42.741466        3.761884  \n",
       "75%      53.567151        8.200031  \n",
       "max      68.863837       43.020733  "
      ]
     },
     "execution_count": 11,
     "metadata": {},
     "output_type": "execute_result"
    }
   ],
   "source": [
    "df.describe()\n",
    "\n",
    "\n",
    "# We can see that the Num_children column's 75th percentile is 1 while the max is 19 and for Num_family \n",
    "# the 75th percentile is 3 while the max is 20. That implies that there must be outliers in those 2 columns.\n",
    "# Same goes for the Total_Income & Years_employed column. Lets plot them in a box plot and check for outleirs"
   ]
  },
  {
   "cell_type": "code",
   "execution_count": 12,
   "id": "ea02cdc5",
   "metadata": {
    "scrolled": false
   },
   "outputs": [
    {
     "data": {
      "image/png": "[encoded data removed]",
      "text/plain": [
       "<Figure size 400x200 with 1 Axes>"
      ]
     },
     "metadata": {},
     "output_type": "display_data"
    },
    {
     "data": {
      "image/png": "[encoded data removed]",
      "text/plain": [
       "<Figure size 400x200 with 1 Axes>"
      ]
     },
     "metadata": {},
     "output_type": "display_data"
    },
    {
     "data": {
      "image/png": "[encoded data removed]",
      "text/plain": [
       "<Figure size 400x200 with 1 Axes>"
      ]
     },
     "metadata": {},
     "output_type": "display_data"
    },
    {
     "data": {
      "image/png": "[encoded data removed]",
      "text/plain": [
       "<Figure size 400x200 with 1 Axes>"
      ]
     },
     "metadata": {},
     "output_type": "display_data"
    },
    {
     "data": {
      "image/png": "[encoded data removed]",
      "text/plain": [
       "<Figure size 400x200 with 1 Axes>"
      ]
     },
     "metadata": {},
     "output_type": "display_data"
    },
    {
     "data": {
      "image/png": "[encoded data removed]",
      "text/plain": [
       "<Figure size 400x200 with 1 Axes>"
      ]
     },
     "metadata": {},
     "output_type": "display_data"
    }
   ],
   "source": [
    "# We don't have to plot all the columns, since most of them are binary. We can skip the plotting for those & object types\n",
    "\n",
    "\n",
    "out_col = ['Num_children','Num_family', 'Account_length', 'Total_income', 'Age', 'Years_employed']\n",
    "\n",
    "for i in out_col:\n",
    "    plt.figure(figsize = (4,2))\n",
    "    sns.boxplot(df[i])\n",
    "    plt.xlabel(i)\n",
    "    plt.show()"
   ]
  },
  {
   "cell_type": "markdown",
   "id": "0b7b2f13",
   "metadata": {},
   "source": [
    "## Lets deal with the outliers"
   ]
  },
  {
   "cell_type": "code",
   "execution_count": 13,
   "id": "1192d825",
   "metadata": {},
   "outputs": [
    {
     "data": {
      "text/plain": [
       "(8968, 20)"
      ]
     },
     "execution_count": 13,
     "metadata": {},
     "output_type": "execute_result"
    }
   ],
   "source": [
    "q1 = df['Years_employed'].quantile(0.25)\n",
    "q3 = df['Years_employed'].quantile(0.75)\n",
    "IQR = q3-q1\n",
    "UL = q3 + IQR\n",
    "LL = q1 - IQR\n",
    "\n",
    "df = df[(df['Years_employed']>LL) & (df['Years_employed']<UL)]\n",
    "df.shape"
   ]
  },
  {
   "cell_type": "code",
   "execution_count": 14,
   "id": "7f027494",
   "metadata": {},
   "outputs": [
    {
     "data": {
      "text/plain": [
       "(8362, 20)"
      ]
     },
     "execution_count": 14,
     "metadata": {},
     "output_type": "execute_result"
    }
   ],
   "source": [
    "q1 = df['Total_income'].quantile(0.25)\n",
    "q3 = df['Total_income'].quantile(0.75)\n",
    "IQR = q3-q1\n",
    "UL = q3 + IQR\n",
    "LL = q1 - IQR\n",
    "\n",
    "df = df[(df['Total_income']>LL) & (df['Total_income']<UL)]\n",
    "df.shape"
   ]
  },
  {
   "cell_type": "code",
   "execution_count": 15,
   "id": "6bdcca05",
   "metadata": {},
   "outputs": [
    {
     "data": {
      "text/plain": [
       "(5839, 20)"
      ]
     },
     "execution_count": 15,
     "metadata": {},
     "output_type": "execute_result"
    }
   ],
   "source": [
    "q1 = df['Num_family'].quantile(0.25)\n",
    "q3 = df['Num_family'].quantile(0.75)\n",
    "IQR = q3-q1\n",
    "UL = q3 + IQR\n",
    "LL = q1 - IQR\n",
    "\n",
    "df = df[(df['Num_family']>LL) & (df['Num_family']<UL)]\n",
    "df.shape"
   ]
  },
  {
   "cell_type": "code",
   "execution_count": 16,
   "id": "4f5bf1ed",
   "metadata": {},
   "outputs": [
    {
     "data": {
      "text/plain": [
       "(5790, 20)"
      ]
     },
     "execution_count": 16,
     "metadata": {},
     "output_type": "execute_result"
    }
   ],
   "source": [
    "q1 = df['Num_children'].quantile(0.25)\n",
    "q3 = df['Num_children'].quantile(0.75)\n",
    "IQR = q3-q1\n",
    "UL = q3 + IQR\n",
    "LL = q1 - IQR\n",
    "\n",
    "df = df[(df['Num_children']>LL) & (df['Num_children']<UL)]\n",
    "df.shape"
   ]
  },
  {
   "cell_type": "code",
   "execution_count": 17,
   "id": "91aed9b2",
   "metadata": {
    "scrolled": false
   },
   "outputs": [
    {
     "data": {
      "text/html": [
       "<div>\n",
       "<style scoped>\n",
       "    .dataframe tbody tr th:only-of-type {\n",
       "        vertical-align: middle;\n",
       "    }\n",
       "\n",
       "    .dataframe tbody tr th {\n",
       "        vertical-align: top;\n",
       "    }\n",
       "\n",
       "    .dataframe thead th {\n",
       "        text-align: right;\n",
       "    }\n",
       "</style>\n",
       "<table border=\"1\" class=\"dataframe\">\n",
       "  <thead>\n",
       "    <tr style=\"text-align: right;\">\n",
       "      <th></th>\n",
       "      <th>ID</th>\n",
       "      <th>Gender</th>\n",
       "      <th>Own_car</th>\n",
       "      <th>Own_property</th>\n",
       "      <th>Work_phone</th>\n",
       "      <th>Phone</th>\n",
       "      <th>Email</th>\n",
       "      <th>Unemployed</th>\n",
       "      <th>Num_children</th>\n",
       "      <th>Num_family</th>\n",
       "      <th>Account_length</th>\n",
       "      <th>Total_income</th>\n",
       "      <th>Age</th>\n",
       "      <th>Years_employed</th>\n",
       "      <th>Income_type</th>\n",
       "      <th>Education_type</th>\n",
       "      <th>Family_status</th>\n",
       "      <th>Housing_type</th>\n",
       "      <th>Occupation_type</th>\n",
       "      <th>Target</th>\n",
       "    </tr>\n",
       "  </thead>\n",
       "  <tbody>\n",
       "    <tr>\n",
       "      <th>1</th>\n",
       "      <td>5008806</td>\n",
       "      <td>Male</td>\n",
       "      <td>Yes</td>\n",
       "      <td>Yes</td>\n",
       "      <td>No</td>\n",
       "      <td>No</td>\n",
       "      <td>No</td>\n",
       "      <td>No</td>\n",
       "      <td>0</td>\n",
       "      <td>2</td>\n",
       "      <td>29</td>\n",
       "      <td>112500</td>\n",
       "      <td>58.793815</td>\n",
       "      <td>3.104787</td>\n",
       "      <td>Working</td>\n",
       "      <td>Secondary / secondary special</td>\n",
       "      <td>Married</td>\n",
       "      <td>House / apartment</td>\n",
       "      <td>Security staff</td>\n",
       "      <td>No</td>\n",
       "    </tr>\n",
       "    <tr>\n",
       "      <th>4</th>\n",
       "      <td>5008815</td>\n",
       "      <td>Male</td>\n",
       "      <td>Yes</td>\n",
       "      <td>Yes</td>\n",
       "      <td>Yes</td>\n",
       "      <td>Yes</td>\n",
       "      <td>Yes</td>\n",
       "      <td>No</td>\n",
       "      <td>0</td>\n",
       "      <td>2</td>\n",
       "      <td>5</td>\n",
       "      <td>270000</td>\n",
       "      <td>46.193967</td>\n",
       "      <td>2.105450</td>\n",
       "      <td>Working</td>\n",
       "      <td>Higher education</td>\n",
       "      <td>Married</td>\n",
       "      <td>House / apartment</td>\n",
       "      <td>Accountants</td>\n",
       "      <td>No</td>\n",
       "    </tr>\n",
       "    <tr>\n",
       "      <th>5</th>\n",
       "      <td>5008819</td>\n",
       "      <td>Male</td>\n",
       "      <td>Yes</td>\n",
       "      <td>Yes</td>\n",
       "      <td>No</td>\n",
       "      <td>No</td>\n",
       "      <td>No</td>\n",
       "      <td>No</td>\n",
       "      <td>0</td>\n",
       "      <td>2</td>\n",
       "      <td>17</td>\n",
       "      <td>135000</td>\n",
       "      <td>48.674511</td>\n",
       "      <td>3.269061</td>\n",
       "      <td>Commercial associate</td>\n",
       "      <td>Secondary / secondary special</td>\n",
       "      <td>Married</td>\n",
       "      <td>House / apartment</td>\n",
       "      <td>Laborers</td>\n",
       "      <td>No</td>\n",
       "    </tr>\n",
       "    <tr>\n",
       "      <th>6</th>\n",
       "      <td>5008825</td>\n",
       "      <td>Female</td>\n",
       "      <td>Yes</td>\n",
       "      <td>No</td>\n",
       "      <td>No</td>\n",
       "      <td>No</td>\n",
       "      <td>No</td>\n",
       "      <td>No</td>\n",
       "      <td>0</td>\n",
       "      <td>2</td>\n",
       "      <td>25</td>\n",
       "      <td>130500</td>\n",
       "      <td>29.210730</td>\n",
       "      <td>3.019911</td>\n",
       "      <td>Working</td>\n",
       "      <td>Incomplete higher</td>\n",
       "      <td>Married</td>\n",
       "      <td>House / apartment</td>\n",
       "      <td>Accountants</td>\n",
       "      <td>Yes</td>\n",
       "    </tr>\n",
       "    <tr>\n",
       "      <th>7</th>\n",
       "      <td>5008830</td>\n",
       "      <td>Female</td>\n",
       "      <td>No</td>\n",
       "      <td>Yes</td>\n",
       "      <td>No</td>\n",
       "      <td>Yes</td>\n",
       "      <td>No</td>\n",
       "      <td>No</td>\n",
       "      <td>0</td>\n",
       "      <td>2</td>\n",
       "      <td>31</td>\n",
       "      <td>157500</td>\n",
       "      <td>27.463945</td>\n",
       "      <td>4.021985</td>\n",
       "      <td>Working</td>\n",
       "      <td>Secondary / secondary special</td>\n",
       "      <td>Married</td>\n",
       "      <td>House / apartment</td>\n",
       "      <td>Laborers</td>\n",
       "      <td>Yes</td>\n",
       "    </tr>\n",
       "  </tbody>\n",
       "</table>\n",
       "</div>"
      ],
      "text/plain": [
       "        ID  Gender Own_car Own_property Work_phone Phone Email Unemployed  \\\n",
       "1  5008806    Male     Yes          Yes         No    No    No         No   \n",
       "4  5008815    Male     Yes          Yes        Yes   Yes   Yes         No   \n",
       "5  5008819    Male     Yes          Yes         No    No    No         No   \n",
       "6  5008825  Female     Yes           No         No    No    No         No   \n",
       "7  5008830  Female      No          Yes         No   Yes    No         No   \n",
       "\n",
       "   Num_children  Num_family  Account_length  Total_income        Age  \\\n",
       "1             0           2              29        112500  58.793815   \n",
       "4             0           2               5        270000  46.193967   \n",
       "5             0           2              17        135000  48.674511   \n",
       "6             0           2              25        130500  29.210730   \n",
       "7             0           2              31        157500  27.463945   \n",
       "\n",
       "   Years_employed           Income_type                 Education_type  \\\n",
       "1        3.104787               Working  Secondary / secondary special   \n",
       "4        2.105450               Working               Higher education   \n",
       "5        3.269061  Commercial associate  Secondary / secondary special   \n",
       "6        3.019911               Working              Incomplete higher   \n",
       "7        4.021985               Working  Secondary / secondary special   \n",
       "\n",
       "  Family_status       Housing_type Occupation_type Target  \n",
       "1       Married  House / apartment  Security staff     No  \n",
       "4       Married  House / apartment     Accountants     No  \n",
       "5       Married  House / apartment        Laborers     No  \n",
       "6       Married  House / apartment     Accountants    Yes  \n",
       "7       Married  House / apartment        Laborers    Yes  "
      ]
     },
     "execution_count": 17,
     "metadata": {},
     "output_type": "execute_result"
    }
   ],
   "source": [
    "df.head()"
   ]
  },
  {
   "cell_type": "code",
   "execution_count": 18,
   "id": "72d29ce6",
   "metadata": {},
   "outputs": [
    {
     "data": {
      "text/plain": [
       "<Axes: >"
      ]
     },
     "execution_count": 18,
     "metadata": {},
     "output_type": "execute_result"
    },
    {
     "data": {
      "image/png": "[encoded data removed]",
      "text/plain": [
       "<Figure size 1000x400 with 1 Axes>"
      ]
     },
     "metadata": {},
     "output_type": "display_data"
    }
   ],
   "source": [
    "# Lets check if we have correctly removed the outliers for our model\n",
    "out_col = ['Num_children','Num_family', 'Account_length', 'Total_income', 'Age', 'Years_employed']\n",
    "\n",
    "plt.figure(figsize = (10,4))\n",
    "sns.boxplot(df[out_col])"
   ]
  },
  {
   "cell_type": "code",
   "execution_count": 19,
   "id": "39ce1c95",
   "metadata": {
    "scrolled": true
   },
   "outputs": [
    {
     "name": "stderr",
     "output_type": "stream",
     "text": [
      "C:\\Users\\sidja\\AppData\\Local\\Temp\\ipykernel_22588\\555102050.py:4: FutureWarning: The default value of numeric_only in DataFrame.corr is deprecated. In a future version, it will default to False. Select only valid columns or specify the value of numeric_only to silence this warning.\n",
      "  sns.heatmap(df.corr(), cmap = 'Blues')\n"
     ]
    },
    {
     "data": {
      "text/plain": [
       "<Axes: >"
      ]
     },
     "execution_count": 19,
     "metadata": {},
     "output_type": "execute_result"
    },
    {
     "data": {
      "image/png": "[encoded data removed]",
      "text/plain": [
       "<Figure size 640x480 with 2 Axes>"
      ]
     },
     "metadata": {},
     "output_type": "display_data"
    }
   ],
   "source": [
    "# Now that we have dealth with the outliers, we need to check for the correlation\n",
    "\n",
    "\n",
    "sns.heatmap(df.corr(), cmap = 'Blues')\n",
    "\n",
    "\n",
    "\n",
    "# We can see that there is strong correlation between the number of children & family members.\n",
    "# Thus we can remove one of them. I prefer removing the children in this case, since the family member should include them"
   ]
  },
  {
   "cell_type": "code",
   "execution_count": 20,
   "id": "daa9d6ff",
   "metadata": {},
   "outputs": [],
   "source": [
    "df = df.drop('Num_children', axis = 1)"
   ]
  },
  {
   "cell_type": "code",
   "execution_count": 21,
   "id": "ee46a62d",
   "metadata": {
    "scrolled": true
   },
   "outputs": [
    {
     "name": "stderr",
     "output_type": "stream",
     "text": [
      "C:\\Users\\sidja\\AppData\\Local\\Temp\\ipykernel_22588\\3635710015.py:3: FutureWarning: The default value of numeric_only in DataFrame.corr is deprecated. In a future version, it will default to False. Select only valid columns or specify the value of numeric_only to silence this warning.\n",
      "  sns.heatmap(df.corr(), cmap = 'Blues')\n"
     ]
    },
    {
     "data": {
      "text/plain": [
       "<Axes: >"
      ]
     },
     "execution_count": 21,
     "metadata": {},
     "output_type": "execute_result"
    },
    {
     "data": {
      "image/png": "[encoded data removed]",
      "text/plain": [
       "<Figure size 640x480 with 2 Axes>"
      ]
     },
     "metadata": {},
     "output_type": "display_data"
    }
   ],
   "source": [
    "# Now lets check for the correlations again\n",
    "\n",
    "sns.heatmap(df.corr(), cmap = 'Blues')\n",
    "\n",
    "# I think we are good to go with our model building for the next part since it looks even as of now"
   ]
  },
  {
   "cell_type": "markdown",
   "id": "5ca6cea3",
   "metadata": {},
   "source": [
    "## Dealing with categorical columns\n",
    "\n"
   ]
  },
  {
   "cell_type": "code",
   "execution_count": 22,
   "id": "2784b72f",
   "metadata": {
    "scrolled": true
   },
   "outputs": [
    {
     "data": {
      "text/html": [
       "<div>\n",
       "<style scoped>\n",
       "    .dataframe tbody tr th:only-of-type {\n",
       "        vertical-align: middle;\n",
       "    }\n",
       "\n",
       "    .dataframe tbody tr th {\n",
       "        vertical-align: top;\n",
       "    }\n",
       "\n",
       "    .dataframe thead th {\n",
       "        text-align: right;\n",
       "    }\n",
       "</style>\n",
       "<table border=\"1\" class=\"dataframe\">\n",
       "  <thead>\n",
       "    <tr style=\"text-align: right;\">\n",
       "      <th></th>\n",
       "      <th>ID</th>\n",
       "      <th>Gender</th>\n",
       "      <th>Own_car</th>\n",
       "      <th>Own_property</th>\n",
       "      <th>Work_phone</th>\n",
       "      <th>Phone</th>\n",
       "      <th>Email</th>\n",
       "      <th>Unemployed</th>\n",
       "      <th>Num_family</th>\n",
       "      <th>Account_length</th>\n",
       "      <th>Total_income</th>\n",
       "      <th>Age</th>\n",
       "      <th>Years_employed</th>\n",
       "      <th>Income_type</th>\n",
       "      <th>Education_type</th>\n",
       "      <th>Family_status</th>\n",
       "      <th>Housing_type</th>\n",
       "      <th>Occupation_type</th>\n",
       "      <th>Target</th>\n",
       "    </tr>\n",
       "  </thead>\n",
       "  <tbody>\n",
       "    <tr>\n",
       "      <th>1</th>\n",
       "      <td>5008806</td>\n",
       "      <td>Male</td>\n",
       "      <td>Yes</td>\n",
       "      <td>Yes</td>\n",
       "      <td>No</td>\n",
       "      <td>No</td>\n",
       "      <td>No</td>\n",
       "      <td>No</td>\n",
       "      <td>2</td>\n",
       "      <td>29</td>\n",
       "      <td>112500</td>\n",
       "      <td>58.793815</td>\n",
       "      <td>3.104787</td>\n",
       "      <td>Working</td>\n",
       "      <td>Secondary / secondary special</td>\n",
       "      <td>Married</td>\n",
       "      <td>House / apartment</td>\n",
       "      <td>Security staff</td>\n",
       "      <td>No</td>\n",
       "    </tr>\n",
       "  </tbody>\n",
       "</table>\n",
       "</div>"
      ],
      "text/plain": [
       "        ID Gender Own_car Own_property Work_phone Phone Email Unemployed  \\\n",
       "1  5008806   Male     Yes          Yes         No    No    No         No   \n",
       "\n",
       "   Num_family  Account_length  Total_income        Age  Years_employed  \\\n",
       "1           2              29        112500  58.793815        3.104787   \n",
       "\n",
       "  Income_type                 Education_type Family_status       Housing_type  \\\n",
       "1     Working  Secondary / secondary special       Married  House / apartment   \n",
       "\n",
       "  Occupation_type Target  \n",
       "1  Security staff     No  "
      ]
     },
     "execution_count": 22,
     "metadata": {},
     "output_type": "execute_result"
    }
   ],
   "source": [
    "df.head(1)"
   ]
  },
  {
   "cell_type": "code",
   "execution_count": 23,
   "id": "86e6d6f7",
   "metadata": {},
   "outputs": [
    {
     "name": "stdout",
     "output_type": "stream",
     "text": [
      "The Original Values are:  ['Commercial associate', 'Pensioner', 'State servant', 'Student', 'Working']\n",
      "The mapped Values shall be:  [0 1 2 3 4]\n",
      "The Original Values are:  ['Academic degree', 'Higher education', 'Incomplete higher', 'Lower secondary', 'Secondary / secondary special']\n",
      "The mapped Values shall be:  [0 1 2 3 4]\n",
      "The Original Values are:  ['Civil marriage', 'Married', 'Separated', 'Single / not married', 'Widow']\n",
      "The mapped Values shall be:  [0 1 2 3 4]\n",
      "The Original Values are:  ['Co-op apartment', 'House / apartment', 'Municipal apartment', 'Office apartment', 'Rented apartment', 'With parents']\n",
      "The mapped Values shall be:  [0 1 2 3 4 5]\n",
      "The Original Values are:  ['Accountants', 'Cleaning staff', 'Cooking staff', 'Core staff', 'Drivers', 'HR staff', 'High skill tech staff', 'IT staff', 'Laborers', 'Low-skill Laborers', 'Managers', 'Medicine staff', 'Other', 'Private service staff', 'Realty agents', 'Sales staff', 'Secretaries', 'Security staff', 'Waiters/barmen staff']\n",
      "The mapped Values shall be:  [ 0  1  2  3  4  5  6  7  8  9 10 11 12 13 14 15 16 17 18]\n"
     ]
    }
   ],
   "source": [
    "# For keeping a track of the columns and their mappings, i use this simple loop to refer to the original values\n",
    "\n",
    "for i in ['Income_type','Education_type','Family_status','Housing_type','Occupation_type']:\n",
    "    cat_variable = list(df[i].unique())\n",
    "    cat_variable.sort()\n",
    "    print(\"The Original Values are: \" ,cat_variable)\n",
    "    print(\"The mapped Values shall be: \" ,np.arange(len(cat_variable)))"
   ]
  },
  {
   "cell_type": "code",
   "execution_count": 24,
   "id": "a1313c40",
   "metadata": {},
   "outputs": [],
   "source": [
    "# We need to encode the Categorical Columns\n",
    "\n",
    "from sklearn.preprocessing import LabelEncoder\n",
    "\n",
    "le = LabelEncoder()\n",
    "\n",
    "df['Income_type'] = le.fit_transform(df['Income_type'])"
   ]
  },
  {
   "cell_type": "code",
   "execution_count": 25,
   "id": "532b3643",
   "metadata": {
    "scrolled": false
   },
   "outputs": [
    {
     "data": {
      "text/html": [
       "<div>\n",
       "<style scoped>\n",
       "    .dataframe tbody tr th:only-of-type {\n",
       "        vertical-align: middle;\n",
       "    }\n",
       "\n",
       "    .dataframe tbody tr th {\n",
       "        vertical-align: top;\n",
       "    }\n",
       "\n",
       "    .dataframe thead th {\n",
       "        text-align: right;\n",
       "    }\n",
       "</style>\n",
       "<table border=\"1\" class=\"dataframe\">\n",
       "  <thead>\n",
       "    <tr style=\"text-align: right;\">\n",
       "      <th></th>\n",
       "      <th>ID</th>\n",
       "      <th>Gender</th>\n",
       "      <th>Own_car</th>\n",
       "      <th>Own_property</th>\n",
       "      <th>Work_phone</th>\n",
       "      <th>Phone</th>\n",
       "      <th>Email</th>\n",
       "      <th>Unemployed</th>\n",
       "      <th>Num_family</th>\n",
       "      <th>Account_length</th>\n",
       "      <th>Total_income</th>\n",
       "      <th>Age</th>\n",
       "      <th>Years_employed</th>\n",
       "      <th>Income_type</th>\n",
       "      <th>Education_type</th>\n",
       "      <th>Family_status</th>\n",
       "      <th>Housing_type</th>\n",
       "      <th>Occupation_type</th>\n",
       "      <th>Target</th>\n",
       "    </tr>\n",
       "  </thead>\n",
       "  <tbody>\n",
       "    <tr>\n",
       "      <th>1</th>\n",
       "      <td>5008806</td>\n",
       "      <td>1</td>\n",
       "      <td>1</td>\n",
       "      <td>1</td>\n",
       "      <td>0</td>\n",
       "      <td>0</td>\n",
       "      <td>0</td>\n",
       "      <td>0</td>\n",
       "      <td>2</td>\n",
       "      <td>29</td>\n",
       "      <td>112500</td>\n",
       "      <td>58.793815</td>\n",
       "      <td>3.104787</td>\n",
       "      <td>4</td>\n",
       "      <td>4</td>\n",
       "      <td>1</td>\n",
       "      <td>1</td>\n",
       "      <td>17</td>\n",
       "      <td>0</td>\n",
       "    </tr>\n",
       "  </tbody>\n",
       "</table>\n",
       "</div>"
      ],
      "text/plain": [
       "        ID  Gender  Own_car  Own_property  Work_phone  Phone  Email  \\\n",
       "1  5008806       1        1             1           0      0      0   \n",
       "\n",
       "   Unemployed  Num_family  Account_length  Total_income        Age  \\\n",
       "1           0           2              29        112500  58.793815   \n",
       "\n",
       "   Years_employed  Income_type  Education_type  Family_status  Housing_type  \\\n",
       "1        3.104787            4               4              1             1   \n",
       "\n",
       "   Occupation_type  Target  \n",
       "1               17       0  "
      ]
     },
     "execution_count": 25,
     "metadata": {},
     "output_type": "execute_result"
    }
   ],
   "source": [
    "df['Education_type'] = le.fit_transform(df['Education_type'])\n",
    "df['Family_status'] = le.fit_transform(df['Family_status'])\n",
    "df['Housing_type'] = le.fit_transform(df['Housing_type'])\n",
    "df['Occupation_type'] = le.fit_transform(df['Occupation_type'])\n",
    "df['Own_car'] = le.fit_transform(df['Own_car'])\n",
    "df['Own_property'] = le.fit_transform(df['Own_property'])\n",
    "df['Work_phone'] = le.fit_transform(df['Work_phone'])\n",
    "df['Phone'] = le.fit_transform(df['Phone'])\n",
    "df['Email'] = le.fit_transform(df['Email'])\n",
    "df['Unemployed'] = le.fit_transform(df['Unemployed'])\n",
    "df['Gender'] = le.fit_transform(df['Gender'])\n",
    "df['Target'] = le.fit_transform(df['Target'])\n",
    "\n",
    "df.head(1)"
   ]
  },
  {
   "cell_type": "code",
   "execution_count": 26,
   "id": "adeae52a",
   "metadata": {},
   "outputs": [],
   "source": [
    "## Lets try building the model with these variables"
   ]
  },
  {
   "cell_type": "markdown",
   "id": "f5c67992",
   "metadata": {},
   "source": [
    "## Train Test Split for Model"
   ]
  },
  {
   "cell_type": "code",
   "execution_count": 27,
   "id": "1873bf2d",
   "metadata": {},
   "outputs": [
    {
     "data": {
      "text/html": [
       "<div>\n",
       "<style scoped>\n",
       "    .dataframe tbody tr th:only-of-type {\n",
       "        vertical-align: middle;\n",
       "    }\n",
       "\n",
       "    .dataframe tbody tr th {\n",
       "        vertical-align: top;\n",
       "    }\n",
       "\n",
       "    .dataframe thead th {\n",
       "        text-align: right;\n",
       "    }\n",
       "</style>\n",
       "<table border=\"1\" class=\"dataframe\">\n",
       "  <thead>\n",
       "    <tr style=\"text-align: right;\">\n",
       "      <th></th>\n",
       "      <th>ID</th>\n",
       "      <th>Gender</th>\n",
       "      <th>Own_car</th>\n",
       "      <th>Own_property</th>\n",
       "      <th>Work_phone</th>\n",
       "      <th>Phone</th>\n",
       "      <th>Email</th>\n",
       "      <th>Unemployed</th>\n",
       "      <th>Num_family</th>\n",
       "      <th>Account_length</th>\n",
       "      <th>Total_income</th>\n",
       "      <th>Age</th>\n",
       "      <th>Years_employed</th>\n",
       "      <th>Income_type</th>\n",
       "      <th>Education_type</th>\n",
       "      <th>Family_status</th>\n",
       "      <th>Housing_type</th>\n",
       "      <th>Occupation_type</th>\n",
       "      <th>Target</th>\n",
       "    </tr>\n",
       "  </thead>\n",
       "  <tbody>\n",
       "    <tr>\n",
       "      <th>1</th>\n",
       "      <td>5008806</td>\n",
       "      <td>1</td>\n",
       "      <td>1</td>\n",
       "      <td>1</td>\n",
       "      <td>0</td>\n",
       "      <td>0</td>\n",
       "      <td>0</td>\n",
       "      <td>0</td>\n",
       "      <td>2</td>\n",
       "      <td>29</td>\n",
       "      <td>112500</td>\n",
       "      <td>58.793815</td>\n",
       "      <td>3.104787</td>\n",
       "      <td>4</td>\n",
       "      <td>4</td>\n",
       "      <td>1</td>\n",
       "      <td>1</td>\n",
       "      <td>17</td>\n",
       "      <td>0</td>\n",
       "    </tr>\n",
       "    <tr>\n",
       "      <th>4</th>\n",
       "      <td>5008815</td>\n",
       "      <td>1</td>\n",
       "      <td>1</td>\n",
       "      <td>1</td>\n",
       "      <td>1</td>\n",
       "      <td>1</td>\n",
       "      <td>1</td>\n",
       "      <td>0</td>\n",
       "      <td>2</td>\n",
       "      <td>5</td>\n",
       "      <td>270000</td>\n",
       "      <td>46.193967</td>\n",
       "      <td>2.105450</td>\n",
       "      <td>4</td>\n",
       "      <td>1</td>\n",
       "      <td>1</td>\n",
       "      <td>1</td>\n",
       "      <td>0</td>\n",
       "      <td>0</td>\n",
       "    </tr>\n",
       "    <tr>\n",
       "      <th>5</th>\n",
       "      <td>5008819</td>\n",
       "      <td>1</td>\n",
       "      <td>1</td>\n",
       "      <td>1</td>\n",
       "      <td>0</td>\n",
       "      <td>0</td>\n",
       "      <td>0</td>\n",
       "      <td>0</td>\n",
       "      <td>2</td>\n",
       "      <td>17</td>\n",
       "      <td>135000</td>\n",
       "      <td>48.674511</td>\n",
       "      <td>3.269061</td>\n",
       "      <td>0</td>\n",
       "      <td>4</td>\n",
       "      <td>1</td>\n",
       "      <td>1</td>\n",
       "      <td>8</td>\n",
       "      <td>0</td>\n",
       "    </tr>\n",
       "    <tr>\n",
       "      <th>6</th>\n",
       "      <td>5008825</td>\n",
       "      <td>0</td>\n",
       "      <td>1</td>\n",
       "      <td>0</td>\n",
       "      <td>0</td>\n",
       "      <td>0</td>\n",
       "      <td>0</td>\n",
       "      <td>0</td>\n",
       "      <td>2</td>\n",
       "      <td>25</td>\n",
       "      <td>130500</td>\n",
       "      <td>29.210730</td>\n",
       "      <td>3.019911</td>\n",
       "      <td>4</td>\n",
       "      <td>2</td>\n",
       "      <td>1</td>\n",
       "      <td>1</td>\n",
       "      <td>0</td>\n",
       "      <td>1</td>\n",
       "    </tr>\n",
       "    <tr>\n",
       "      <th>7</th>\n",
       "      <td>5008830</td>\n",
       "      <td>0</td>\n",
       "      <td>0</td>\n",
       "      <td>1</td>\n",
       "      <td>0</td>\n",
       "      <td>1</td>\n",
       "      <td>0</td>\n",
       "      <td>0</td>\n",
       "      <td>2</td>\n",
       "      <td>31</td>\n",
       "      <td>157500</td>\n",
       "      <td>27.463945</td>\n",
       "      <td>4.021985</td>\n",
       "      <td>4</td>\n",
       "      <td>4</td>\n",
       "      <td>1</td>\n",
       "      <td>1</td>\n",
       "      <td>8</td>\n",
       "      <td>1</td>\n",
       "    </tr>\n",
       "  </tbody>\n",
       "</table>\n",
       "</div>"
      ],
      "text/plain": [
       "        ID  Gender  Own_car  Own_property  Work_phone  Phone  Email  \\\n",
       "1  5008806       1        1             1           0      0      0   \n",
       "4  5008815       1        1             1           1      1      1   \n",
       "5  5008819       1        1             1           0      0      0   \n",
       "6  5008825       0        1             0           0      0      0   \n",
       "7  5008830       0        0             1           0      1      0   \n",
       "\n",
       "   Unemployed  Num_family  Account_length  Total_income        Age  \\\n",
       "1           0           2              29        112500  58.793815   \n",
       "4           0           2               5        270000  46.193967   \n",
       "5           0           2              17        135000  48.674511   \n",
       "6           0           2              25        130500  29.210730   \n",
       "7           0           2              31        157500  27.463945   \n",
       "\n",
       "   Years_employed  Income_type  Education_type  Family_status  Housing_type  \\\n",
       "1        3.104787            4               4              1             1   \n",
       "4        2.105450            4               1              1             1   \n",
       "5        3.269061            0               4              1             1   \n",
       "6        3.019911            4               2              1             1   \n",
       "7        4.021985            4               4              1             1   \n",
       "\n",
       "   Occupation_type  Target  \n",
       "1               17       0  \n",
       "4                0       0  \n",
       "5                8       0  \n",
       "6                0       1  \n",
       "7                8       1  "
      ]
     },
     "execution_count": 27,
     "metadata": {},
     "output_type": "execute_result"
    }
   ],
   "source": [
    "df.head(5)"
   ]
  },
  {
   "cell_type": "markdown",
   "id": "af0a015c",
   "metadata": {},
   "source": [
    "**Let us work with the model including all the independent variables for now**"
   ]
  },
  {
   "cell_type": "code",
   "execution_count": 28,
   "id": "c67f95da",
   "metadata": {},
   "outputs": [],
   "source": [
    "# We dont really need the ID column, so we can drop that"
   ]
  },
  {
   "cell_type": "code",
   "execution_count": 29,
   "id": "da61bf96",
   "metadata": {},
   "outputs": [],
   "source": [
    "df = df.drop('ID', axis = 1)"
   ]
  },
  {
   "cell_type": "code",
   "execution_count": 30,
   "id": "bb067a87",
   "metadata": {},
   "outputs": [],
   "source": [
    "# Importing the Model\n",
    "\n",
    "from sklearn.model_selection import train_test_split\n",
    "from sklearn.linear_model import LogisticRegression"
   ]
  },
  {
   "cell_type": "code",
   "execution_count": 31,
   "id": "5792ba95",
   "metadata": {},
   "outputs": [],
   "source": [
    "x = df.iloc[:,:-1]\n",
    "y = df.iloc[:,-1]"
   ]
  },
  {
   "cell_type": "code",
   "execution_count": 32,
   "id": "fdd96a80",
   "metadata": {},
   "outputs": [],
   "source": [
    "LogReg = LogisticRegression()"
   ]
  },
  {
   "cell_type": "code",
   "execution_count": 33,
   "id": "f0c037ca",
   "metadata": {},
   "outputs": [],
   "source": [
    "x_train,x_test,y_train,y_test = train_test_split(x,y,test_size = 0.3,random_state=10 )"
   ]
  },
  {
   "cell_type": "code",
   "execution_count": 34,
   "id": "f56f3f43",
   "metadata": {},
   "outputs": [
    {
     "data": {
      "text/html": [
       "<style>#sk-container-id-1 {color: black;background-color: white;}#sk-container-id-1 pre{padding: 0;}#sk-container-id-1 div.sk-toggleable {background-color: white;}#sk-container-id-1 label.sk-toggleable__label {cursor: pointer;display: block;width: 100%;margin-bottom: 0;padding: 0.3em;box-sizing: border-box;text-align: center;}#sk-container-id-1 label.sk-toggleable__label-arrow:before {content: \"▸\";float: left;margin-right: 0.25em;color: #696969;}#sk-container-id-1 label.sk-toggleable__label-arrow:hover:before {color: black;}#sk-container-id-1 div.sk-estimator:hover label.sk-toggleable__label-arrow:before {color: black;}#sk-container-id-1 div.sk-toggleable__content {max-height: 0;max-width: 0;overflow: hidden;text-align: left;background-color: #f0f8ff;}#sk-container-id-1 div.sk-toggleable__content pre {margin: 0.2em;color: black;border-radius: 0.25em;background-color: #f0f8ff;}#sk-container-id-1 input.sk-toggleable__control:checked~div.sk-toggleable__content {max-height: 200px;max-width: 100%;overflow: auto;}#sk-container-id-1 input.sk-toggleable__control:checked~label.sk-toggleable__label-arrow:before {content: \"▾\";}#sk-container-id-1 div.sk-estimator input.sk-toggleable__control:checked~label.sk-toggleable__label {background-color: #d4ebff;}#sk-container-id-1 div.sk-label input.sk-toggleable__control:checked~label.sk-toggleable__label {background-color: #d4ebff;}#sk-container-id-1 input.sk-hidden--visually {border: 0;clip: rect(1px 1px 1px 1px);clip: rect(1px, 1px, 1px, 1px);height: 1px;margin: -1px;overflow: hidden;padding: 0;position: absolute;width: 1px;}#sk-container-id-1 div.sk-estimator {font-family: monospace;background-color: #f0f8ff;border: 1px dotted black;border-radius: 0.25em;box-sizing: border-box;margin-bottom: 0.5em;}#sk-container-id-1 div.sk-estimator:hover {background-color: #d4ebff;}#sk-container-id-1 div.sk-parallel-item::after {content: \"\";width: 100%;border-bottom: 1px solid gray;flex-grow: 1;}#sk-container-id-1 div.sk-label:hover label.sk-toggleable__label {background-color: #d4ebff;}#sk-container-id-1 div.sk-serial::before {content: \"\";position: absolute;border-left: 1px solid gray;box-sizing: border-box;top: 0;bottom: 0;left: 50%;z-index: 0;}#sk-container-id-1 div.sk-serial {display: flex;flex-direction: column;align-items: center;background-color: white;padding-right: 0.2em;padding-left: 0.2em;position: relative;}#sk-container-id-1 div.sk-item {position: relative;z-index: 1;}#sk-container-id-1 div.sk-parallel {display: flex;align-items: stretch;justify-content: center;background-color: white;position: relative;}#sk-container-id-1 div.sk-item::before, #sk-container-id-1 div.sk-parallel-item::before {content: \"\";position: absolute;border-left: 1px solid gray;box-sizing: border-box;top: 0;bottom: 0;left: 50%;z-index: -1;}#sk-container-id-1 div.sk-parallel-item {display: flex;flex-direction: column;z-index: 1;position: relative;background-color: white;}#sk-container-id-1 div.sk-parallel-item:first-child::after {align-self: flex-end;width: 50%;}#sk-container-id-1 div.sk-parallel-item:last-child::after {align-self: flex-start;width: 50%;}#sk-container-id-1 div.sk-parallel-item:only-child::after {width: 0;}#sk-container-id-1 div.sk-dashed-wrapped {border: 1px dashed gray;margin: 0 0.4em 0.5em 0.4em;box-sizing: border-box;padding-bottom: 0.4em;background-color: white;}#sk-container-id-1 div.sk-label label {font-family: monospace;font-weight: bold;display: inline-block;line-height: 1.2em;}#sk-container-id-1 div.sk-label-container {text-align: center;}#sk-container-id-1 div.sk-container {/* jupyter's `normalize.less` sets `[hidden] { display: none; }` but bootstrap.min.css set `[hidden] { display: none !important; }` so we also need the `!important` here to be able to override the default hidden behavior on the sphinx rendered scikit-learn.org. See: https://github.com/scikit-learn/scikit-learn/issues/21755 */display: inline-block !important;position: relative;}#sk-container-id-1 div.sk-text-repr-fallback {display: none;}</style><div id=\"sk-container-id-1\" class=\"sk-top-container\"><div class=\"sk-text-repr-fallback\"><pre>LogisticRegression()</pre><b>In a Jupyter environment, please rerun this cell to show the HTML representation or trust the notebook. <br />On GitHub, the HTML representation is unable to render, please try loading this page with nbviewer.org.</b></div><div class=\"sk-container\" hidden><div class=\"sk-item\"><div class=\"sk-estimator sk-toggleable\"><input class=\"sk-toggleable__control sk-hidden--visually\" id=\"sk-estimator-id-1\" type=\"checkbox\" checked><label for=\"sk-estimator-id-1\" class=\"sk-toggleable__label sk-toggleable__label-arrow\">LogisticRegression</label><div class=\"sk-toggleable__content\"><pre>LogisticRegression()</pre></div></div></div></div></div>"
      ],
      "text/plain": [
       "LogisticRegression()"
      ]
     },
     "execution_count": 34,
     "metadata": {},
     "output_type": "execute_result"
    }
   ],
   "source": [
    "LogReg.fit(x_train,y_train)"
   ]
  },
  {
   "cell_type": "code",
   "execution_count": 35,
   "id": "43246479",
   "metadata": {},
   "outputs": [],
   "source": [
    "y_pred = LogReg.predict(x_test)"
   ]
  },
  {
   "cell_type": "code",
   "execution_count": 36,
   "id": "0ec41b7f",
   "metadata": {},
   "outputs": [],
   "source": [
    "from sklearn.metrics import classification_report, confusion_matrix"
   ]
  },
  {
   "cell_type": "code",
   "execution_count": 37,
   "id": "82bddada",
   "metadata": {
    "scrolled": true
   },
   "outputs": [
    {
     "name": "stdout",
     "output_type": "stream",
     "text": [
      "              precision    recall  f1-score   support\n",
      "\n",
      "           0       1.00      0.86      0.92      1737\n",
      "           1       0.00      0.00      0.00         0\n",
      "\n",
      "    accuracy                           0.86      1737\n",
      "   macro avg       0.50      0.43      0.46      1737\n",
      "weighted avg       1.00      0.86      0.92      1737\n",
      "\n"
     ]
    },
    {
     "name": "stderr",
     "output_type": "stream",
     "text": [
      "C:\\Users\\sidja\\anaconda3\\Lib\\site-packages\\sklearn\\metrics\\_classification.py:1344: UndefinedMetricWarning: Recall and F-score are ill-defined and being set to 0.0 in labels with no true samples. Use `zero_division` parameter to control this behavior.\n",
      "  _warn_prf(average, modifier, msg_start, len(result))\n",
      "C:\\Users\\sidja\\anaconda3\\Lib\\site-packages\\sklearn\\metrics\\_classification.py:1344: UndefinedMetricWarning: Recall and F-score are ill-defined and being set to 0.0 in labels with no true samples. Use `zero_division` parameter to control this behavior.\n",
      "  _warn_prf(average, modifier, msg_start, len(result))\n",
      "C:\\Users\\sidja\\anaconda3\\Lib\\site-packages\\sklearn\\metrics\\_classification.py:1344: UndefinedMetricWarning: Recall and F-score are ill-defined and being set to 0.0 in labels with no true samples. Use `zero_division` parameter to control this behavior.\n",
      "  _warn_prf(average, modifier, msg_start, len(result))\n"
     ]
    }
   ],
   "source": [
    "print(classification_report(y_pred,y_test))"
   ]
  },
  {
   "cell_type": "code",
   "execution_count": 38,
   "id": "d94d73d9",
   "metadata": {},
   "outputs": [
    {
     "data": {
      "text/plain": [
       "array([[1493,  244],\n",
       "       [   0,    0]], dtype=int64)"
      ]
     },
     "execution_count": 38,
     "metadata": {},
     "output_type": "execute_result"
    }
   ],
   "source": [
    "confusion_matrix(y_pred,y_test)"
   ]
  },
  {
   "cell_type": "code",
   "execution_count": 39,
   "id": "2c242040",
   "metadata": {},
   "outputs": [
    {
     "data": {
      "image/png": "[encoded data removed]",
      "text/plain": [
       "<Figure size 700x300 with 2 Axes>"
      ]
     },
     "metadata": {},
     "output_type": "display_data"
    }
   ],
   "source": [
    "cm = confusion_matrix(y_pred,y_test)\n",
    "plt.figure(figsize = (7,3))\n",
    "sns.heatmap(cm, annot = True, cmap = 'viridis')\n",
    "plt.xlabel('Predicted Data')\n",
    "plt.ylabel('Actual Data')\n",
    "plt.show()"
   ]
  },
  {
   "cell_type": "code",
   "execution_count": 40,
   "id": "a8b619af",
   "metadata": {},
   "outputs": [
    {
     "data": {
      "image/png": "[encoded data removed]",
      "text/plain": [
       "<Figure size 640x480 with 1 Axes>"
      ]
     },
     "metadata": {},
     "output_type": "display_data"
    }
   ],
   "source": [
    "plt.hist(y_test)\n",
    "plt.show()\n",
    "\n",
    "\n",
    "# Here we can clearly see that the data is highly imbalanced towards 0 and hence our model trained better towards identifying \n",
    "# 0s(low risks) correctly and did not predict the 1s(high risks)"
   ]
  },
  {
   "cell_type": "code",
   "execution_count": 41,
   "id": "d9bb764c",
   "metadata": {},
   "outputs": [],
   "source": [
    "df2 = pd.read_csv(\"C:/Users/sidja/Documents/Intellipaat/Python/Stats & ML/Kaggle Datasets/Credit Card - Cleaning & Classification/clean_data/clean_data.csv\")"
   ]
  },
  {
   "cell_type": "code",
   "execution_count": 42,
   "id": "ecf4b5dc",
   "metadata": {
    "scrolled": true
   },
   "outputs": [
    {
     "data": {
      "text/plain": [
       "No     8426\n",
       "Yes    1283\n",
       "Name: Target, dtype: int64"
      ]
     },
     "execution_count": 42,
     "metadata": {},
     "output_type": "execute_result"
    }
   ],
   "source": [
    "df2['Target'].value_counts()"
   ]
  },
  {
   "cell_type": "code",
   "execution_count": 43,
   "id": "3c814f64",
   "metadata": {},
   "outputs": [],
   "source": [
    "# The ratio is the same in our given dataset. We need to dig deeper & scale the indepedent variables and test further"
   ]
  },
  {
   "cell_type": "code",
   "execution_count": 44,
   "id": "0b23f229",
   "metadata": {},
   "outputs": [
    {
     "data": {
      "text/html": [
       "<style>#sk-container-id-2 {color: black;background-color: white;}#sk-container-id-2 pre{padding: 0;}#sk-container-id-2 div.sk-toggleable {background-color: white;}#sk-container-id-2 label.sk-toggleable__label {cursor: pointer;display: block;width: 100%;margin-bottom: 0;padding: 0.3em;box-sizing: border-box;text-align: center;}#sk-container-id-2 label.sk-toggleable__label-arrow:before {content: \"▸\";float: left;margin-right: 0.25em;color: #696969;}#sk-container-id-2 label.sk-toggleable__label-arrow:hover:before {color: black;}#sk-container-id-2 div.sk-estimator:hover label.sk-toggleable__label-arrow:before {color: black;}#sk-container-id-2 div.sk-toggleable__content {max-height: 0;max-width: 0;overflow: hidden;text-align: left;background-color: #f0f8ff;}#sk-container-id-2 div.sk-toggleable__content pre {margin: 0.2em;color: black;border-radius: 0.25em;background-color: #f0f8ff;}#sk-container-id-2 input.sk-toggleable__control:checked~div.sk-toggleable__content {max-height: 200px;max-width: 100%;overflow: auto;}#sk-container-id-2 input.sk-toggleable__control:checked~label.sk-toggleable__label-arrow:before {content: \"▾\";}#sk-container-id-2 div.sk-estimator input.sk-toggleable__control:checked~label.sk-toggleable__label {background-color: #d4ebff;}#sk-container-id-2 div.sk-label input.sk-toggleable__control:checked~label.sk-toggleable__label {background-color: #d4ebff;}#sk-container-id-2 input.sk-hidden--visually {border: 0;clip: rect(1px 1px 1px 1px);clip: rect(1px, 1px, 1px, 1px);height: 1px;margin: -1px;overflow: hidden;padding: 0;position: absolute;width: 1px;}#sk-container-id-2 div.sk-estimator {font-family: monospace;background-color: #f0f8ff;border: 1px dotted black;border-radius: 0.25em;box-sizing: border-box;margin-bottom: 0.5em;}#sk-container-id-2 div.sk-estimator:hover {background-color: #d4ebff;}#sk-container-id-2 div.sk-parallel-item::after {content: \"\";width: 100%;border-bottom: 1px solid gray;flex-grow: 1;}#sk-container-id-2 div.sk-label:hover label.sk-toggleable__label {background-color: #d4ebff;}#sk-container-id-2 div.sk-serial::before {content: \"\";position: absolute;border-left: 1px solid gray;box-sizing: border-box;top: 0;bottom: 0;left: 50%;z-index: 0;}#sk-container-id-2 div.sk-serial {display: flex;flex-direction: column;align-items: center;background-color: white;padding-right: 0.2em;padding-left: 0.2em;position: relative;}#sk-container-id-2 div.sk-item {position: relative;z-index: 1;}#sk-container-id-2 div.sk-parallel {display: flex;align-items: stretch;justify-content: center;background-color: white;position: relative;}#sk-container-id-2 div.sk-item::before, #sk-container-id-2 div.sk-parallel-item::before {content: \"\";position: absolute;border-left: 1px solid gray;box-sizing: border-box;top: 0;bottom: 0;left: 50%;z-index: -1;}#sk-container-id-2 div.sk-parallel-item {display: flex;flex-direction: column;z-index: 1;position: relative;background-color: white;}#sk-container-id-2 div.sk-parallel-item:first-child::after {align-self: flex-end;width: 50%;}#sk-container-id-2 div.sk-parallel-item:last-child::after {align-self: flex-start;width: 50%;}#sk-container-id-2 div.sk-parallel-item:only-child::after {width: 0;}#sk-container-id-2 div.sk-dashed-wrapped {border: 1px dashed gray;margin: 0 0.4em 0.5em 0.4em;box-sizing: border-box;padding-bottom: 0.4em;background-color: white;}#sk-container-id-2 div.sk-label label {font-family: monospace;font-weight: bold;display: inline-block;line-height: 1.2em;}#sk-container-id-2 div.sk-label-container {text-align: center;}#sk-container-id-2 div.sk-container {/* jupyter's `normalize.less` sets `[hidden] { display: none; }` but bootstrap.min.css set `[hidden] { display: none !important; }` so we also need the `!important` here to be able to override the default hidden behavior on the sphinx rendered scikit-learn.org. See: https://github.com/scikit-learn/scikit-learn/issues/21755 */display: inline-block !important;position: relative;}#sk-container-id-2 div.sk-text-repr-fallback {display: none;}</style><div id=\"sk-container-id-2\" class=\"sk-top-container\"><div class=\"sk-text-repr-fallback\"><pre>LogisticRegression(class_weight={0: 0.5737542468856173, 1: 3.8896353166986564})</pre><b>In a Jupyter environment, please rerun this cell to show the HTML representation or trust the notebook. <br />On GitHub, the HTML representation is unable to render, please try loading this page with nbviewer.org.</b></div><div class=\"sk-container\" hidden><div class=\"sk-item\"><div class=\"sk-estimator sk-toggleable\"><input class=\"sk-toggleable__control sk-hidden--visually\" id=\"sk-estimator-id-2\" type=\"checkbox\" checked><label for=\"sk-estimator-id-2\" class=\"sk-toggleable__label sk-toggleable__label-arrow\">LogisticRegression</label><div class=\"sk-toggleable__content\"><pre>LogisticRegression(class_weight={0: 0.5737542468856173, 1: 3.8896353166986564})</pre></div></div></div></div></div>"
      ],
      "text/plain": [
       "LogisticRegression(class_weight={0: 0.5737542468856173, 1: 3.8896353166986564})"
      ]
     },
     "execution_count": 44,
     "metadata": {},
     "output_type": "execute_result"
    }
   ],
   "source": [
    "from sklearn.utils import class_weight\n",
    "\n",
    "#Creating a balanced class weight\n",
    "class_weights = class_weight.compute_class_weight( 'balanced', classes=np.unique(y_train), y=y_train)\n",
    "class_weights_dict = dict(zip(np.unique(y_train), class_weights))\n",
    "\n",
    "# Create logistic regression model with class weights\n",
    "model = LogisticRegression(class_weight=class_weights_dict)\n",
    "model.fit(x_train, y_train)\n"
   ]
  },
  {
   "cell_type": "code",
   "execution_count": 45,
   "id": "6fe81375",
   "metadata": {},
   "outputs": [],
   "source": [
    "y_pred1 = model.predict(x_test)"
   ]
  },
  {
   "cell_type": "code",
   "execution_count": 46,
   "id": "5b5ecb08",
   "metadata": {},
   "outputs": [
    {
     "name": "stdout",
     "output_type": "stream",
     "text": [
      "              precision    recall  f1-score   support\n",
      "\n",
      "           0       0.00      0.00      0.00         0\n",
      "           1       1.00      0.14      0.25      1737\n",
      "\n",
      "    accuracy                           0.14      1737\n",
      "   macro avg       0.50      0.07      0.12      1737\n",
      "weighted avg       1.00      0.14      0.25      1737\n",
      "\n"
     ]
    },
    {
     "name": "stderr",
     "output_type": "stream",
     "text": [
      "C:\\Users\\sidja\\anaconda3\\Lib\\site-packages\\sklearn\\metrics\\_classification.py:1344: UndefinedMetricWarning: Recall and F-score are ill-defined and being set to 0.0 in labels with no true samples. Use `zero_division` parameter to control this behavior.\n",
      "  _warn_prf(average, modifier, msg_start, len(result))\n",
      "C:\\Users\\sidja\\anaconda3\\Lib\\site-packages\\sklearn\\metrics\\_classification.py:1344: UndefinedMetricWarning: Recall and F-score are ill-defined and being set to 0.0 in labels with no true samples. Use `zero_division` parameter to control this behavior.\n",
      "  _warn_prf(average, modifier, msg_start, len(result))\n",
      "C:\\Users\\sidja\\anaconda3\\Lib\\site-packages\\sklearn\\metrics\\_classification.py:1344: UndefinedMetricWarning: Recall and F-score are ill-defined and being set to 0.0 in labels with no true samples. Use `zero_division` parameter to control this behavior.\n",
      "  _warn_prf(average, modifier, msg_start, len(result))\n"
     ]
    }
   ],
   "source": [
    "print(classification_report(y_pred1, y_test))\n",
    "\n",
    "\n",
    "#The model has performed poorly on balanced variables, where it could not detect low risk cases at all"
   ]
  },
  {
   "cell_type": "code",
   "execution_count": 47,
   "id": "177878d5",
   "metadata": {
    "scrolled": true
   },
   "outputs": [
    {
     "data": {
      "text/plain": [
       "(5790, 18)"
      ]
     },
     "execution_count": 47,
     "metadata": {},
     "output_type": "execute_result"
    }
   ],
   "source": [
    "df.shape"
   ]
  },
  {
   "cell_type": "markdown",
   "id": "f36728dc",
   "metadata": {},
   "source": [
    "## Let us try balancing the Target Variable by duplicating the records having high risk"
   ]
  },
  {
   "cell_type": "code",
   "execution_count": 48,
   "id": "59fbb2bb",
   "metadata": {},
   "outputs": [],
   "source": [
    "df2 = df[(df[\"Target\"]==1)]"
   ]
  },
  {
   "cell_type": "code",
   "execution_count": 49,
   "id": "90fa3e7f",
   "metadata": {},
   "outputs": [
    {
     "data": {
      "text/html": [
       "<div>\n",
       "<style scoped>\n",
       "    .dataframe tbody tr th:only-of-type {\n",
       "        vertical-align: middle;\n",
       "    }\n",
       "\n",
       "    .dataframe tbody tr th {\n",
       "        vertical-align: top;\n",
       "    }\n",
       "\n",
       "    .dataframe thead th {\n",
       "        text-align: right;\n",
       "    }\n",
       "</style>\n",
       "<table border=\"1\" class=\"dataframe\">\n",
       "  <thead>\n",
       "    <tr style=\"text-align: right;\">\n",
       "      <th></th>\n",
       "      <th>Gender</th>\n",
       "      <th>Own_car</th>\n",
       "      <th>Own_property</th>\n",
       "      <th>Work_phone</th>\n",
       "      <th>Phone</th>\n",
       "      <th>Email</th>\n",
       "      <th>Unemployed</th>\n",
       "      <th>Num_family</th>\n",
       "      <th>Account_length</th>\n",
       "      <th>Total_income</th>\n",
       "      <th>Age</th>\n",
       "      <th>Years_employed</th>\n",
       "      <th>Income_type</th>\n",
       "      <th>Education_type</th>\n",
       "      <th>Family_status</th>\n",
       "      <th>Housing_type</th>\n",
       "      <th>Occupation_type</th>\n",
       "      <th>Target</th>\n",
       "    </tr>\n",
       "  </thead>\n",
       "  <tbody>\n",
       "    <tr>\n",
       "      <th>6</th>\n",
       "      <td>0</td>\n",
       "      <td>1</td>\n",
       "      <td>0</td>\n",
       "      <td>0</td>\n",
       "      <td>0</td>\n",
       "      <td>0</td>\n",
       "      <td>0</td>\n",
       "      <td>2</td>\n",
       "      <td>25</td>\n",
       "      <td>130500</td>\n",
       "      <td>29.210730</td>\n",
       "      <td>3.019911</td>\n",
       "      <td>4</td>\n",
       "      <td>2</td>\n",
       "      <td>1</td>\n",
       "      <td>1</td>\n",
       "      <td>0</td>\n",
       "      <td>1</td>\n",
       "    </tr>\n",
       "    <tr>\n",
       "      <th>7</th>\n",
       "      <td>0</td>\n",
       "      <td>0</td>\n",
       "      <td>1</td>\n",
       "      <td>0</td>\n",
       "      <td>1</td>\n",
       "      <td>0</td>\n",
       "      <td>0</td>\n",
       "      <td>2</td>\n",
       "      <td>31</td>\n",
       "      <td>157500</td>\n",
       "      <td>27.463945</td>\n",
       "      <td>4.021985</td>\n",
       "      <td>4</td>\n",
       "      <td>4</td>\n",
       "      <td>1</td>\n",
       "      <td>1</td>\n",
       "      <td>8</td>\n",
       "      <td>1</td>\n",
       "    </tr>\n",
       "    <tr>\n",
       "      <th>19</th>\n",
       "      <td>0</td>\n",
       "      <td>0</td>\n",
       "      <td>0</td>\n",
       "      <td>0</td>\n",
       "      <td>1</td>\n",
       "      <td>0</td>\n",
       "      <td>0</td>\n",
       "      <td>2</td>\n",
       "      <td>43</td>\n",
       "      <td>157500</td>\n",
       "      <td>37.350527</td>\n",
       "      <td>13.267897</td>\n",
       "      <td>0</td>\n",
       "      <td>1</td>\n",
       "      <td>1</td>\n",
       "      <td>1</td>\n",
       "      <td>6</td>\n",
       "      <td>1</td>\n",
       "    </tr>\n",
       "    <tr>\n",
       "      <th>23</th>\n",
       "      <td>1</td>\n",
       "      <td>0</td>\n",
       "      <td>1</td>\n",
       "      <td>0</td>\n",
       "      <td>1</td>\n",
       "      <td>0</td>\n",
       "      <td>0</td>\n",
       "      <td>2</td>\n",
       "      <td>15</td>\n",
       "      <td>157500</td>\n",
       "      <td>43.880436</td>\n",
       "      <td>2.433999</td>\n",
       "      <td>4</td>\n",
       "      <td>4</td>\n",
       "      <td>1</td>\n",
       "      <td>1</td>\n",
       "      <td>12</td>\n",
       "      <td>1</td>\n",
       "    </tr>\n",
       "    <tr>\n",
       "      <th>32</th>\n",
       "      <td>0</td>\n",
       "      <td>1</td>\n",
       "      <td>1</td>\n",
       "      <td>0</td>\n",
       "      <td>0</td>\n",
       "      <td>0</td>\n",
       "      <td>0</td>\n",
       "      <td>2</td>\n",
       "      <td>17</td>\n",
       "      <td>225000</td>\n",
       "      <td>39.562756</td>\n",
       "      <td>7.603168</td>\n",
       "      <td>0</td>\n",
       "      <td>4</td>\n",
       "      <td>1</td>\n",
       "      <td>1</td>\n",
       "      <td>8</td>\n",
       "      <td>1</td>\n",
       "    </tr>\n",
       "  </tbody>\n",
       "</table>\n",
       "</div>"
      ],
      "text/plain": [
       "    Gender  Own_car  Own_property  Work_phone  Phone  Email  Unemployed  \\\n",
       "6        0        1             0           0      0      0           0   \n",
       "7        0        0             1           0      1      0           0   \n",
       "19       0        0             0           0      1      0           0   \n",
       "23       1        0             1           0      1      0           0   \n",
       "32       0        1             1           0      0      0           0   \n",
       "\n",
       "    Num_family  Account_length  Total_income        Age  Years_employed  \\\n",
       "6            2              25        130500  29.210730        3.019911   \n",
       "7            2              31        157500  27.463945        4.021985   \n",
       "19           2              43        157500  37.350527       13.267897   \n",
       "23           2              15        157500  43.880436        2.433999   \n",
       "32           2              17        225000  39.562756        7.603168   \n",
       "\n",
       "    Income_type  Education_type  Family_status  Housing_type  Occupation_type  \\\n",
       "6             4               2              1             1                0   \n",
       "7             4               4              1             1                8   \n",
       "19            0               1              1             1                6   \n",
       "23            4               4              1             1               12   \n",
       "32            0               4              1             1                8   \n",
       "\n",
       "    Target  \n",
       "6        1  \n",
       "7        1  \n",
       "19       1  \n",
       "23       1  \n",
       "32       1  "
      ]
     },
     "execution_count": 49,
     "metadata": {},
     "output_type": "execute_result"
    }
   ],
   "source": [
    "df2.head()"
   ]
  },
  {
   "cell_type": "code",
   "execution_count": 50,
   "id": "5cc564a6",
   "metadata": {},
   "outputs": [
    {
     "data": {
      "text/plain": [
       "(array([5025.,    0.,    0.,    0.,    0.,    0.,    0.,    0.,    0.,\n",
       "         765.]),\n",
       " array([0. , 0.1, 0.2, 0.3, 0.4, 0.5, 0.6, 0.7, 0.8, 0.9, 1. ]),\n",
       " <BarContainer object of 10 artists>)"
      ]
     },
     "execution_count": 50,
     "metadata": {},
     "output_type": "execute_result"
    },
    {
     "data": {
      "image/png": "[encoded data removed]",
      "text/plain": [
       "<Figure size 640x480 with 1 Axes>"
      ]
     },
     "metadata": {},
     "output_type": "display_data"
    }
   ],
   "source": [
    "plt.hist(df['Target'])"
   ]
  },
  {
   "cell_type": "code",
   "execution_count": 51,
   "id": "daf9df9a",
   "metadata": {},
   "outputs": [],
   "source": [
    "new_df = pd.concat([df,df2])"
   ]
  },
  {
   "cell_type": "code",
   "execution_count": 52,
   "id": "68b9b96e",
   "metadata": {},
   "outputs": [
    {
     "data": {
      "text/plain": [
       "(array([5025.,    0.,    0.,    0.,    0.,    0.,    0.,    0.,    0.,\n",
       "        1530.]),\n",
       " array([0. , 0.1, 0.2, 0.3, 0.4, 0.5, 0.6, 0.7, 0.8, 0.9, 1. ]),\n",
       " <BarContainer object of 10 artists>)"
      ]
     },
     "execution_count": 52,
     "metadata": {},
     "output_type": "execute_result"
    },
    {
     "data": {
      "image/png": "[encoded data removed]",
      "text/plain": [
       "<Figure size 640x480 with 1 Axes>"
      ]
     },
     "metadata": {},
     "output_type": "display_data"
    }
   ],
   "source": [
    "plt.hist(new_df['Target'])\n",
    "\n",
    "# We tried to balance the number of high risk profiles for the model "
   ]
  },
  {
   "cell_type": "code",
   "execution_count": 53,
   "id": "dd5fa830",
   "metadata": {},
   "outputs": [],
   "source": [
    "x = new_df.iloc[:,:-1]\n",
    "y = new_df.iloc[:,-1]"
   ]
  },
  {
   "cell_type": "code",
   "execution_count": 54,
   "id": "850ceac9",
   "metadata": {},
   "outputs": [],
   "source": [
    "x_train,x_test,y_train,y_test = train_test_split(x,y,test_size = 0.2,random_state=10 )"
   ]
  },
  {
   "cell_type": "code",
   "execution_count": 55,
   "id": "6830152a",
   "metadata": {},
   "outputs": [],
   "source": [
    "logreg2 = LogisticRegression()"
   ]
  },
  {
   "cell_type": "code",
   "execution_count": 56,
   "id": "35284b1b",
   "metadata": {},
   "outputs": [
    {
     "data": {
      "text/html": [
       "<style>#sk-container-id-3 {color: black;background-color: white;}#sk-container-id-3 pre{padding: 0;}#sk-container-id-3 div.sk-toggleable {background-color: white;}#sk-container-id-3 label.sk-toggleable__label {cursor: pointer;display: block;width: 100%;margin-bottom: 0;padding: 0.3em;box-sizing: border-box;text-align: center;}#sk-container-id-3 label.sk-toggleable__label-arrow:before {content: \"▸\";float: left;margin-right: 0.25em;color: #696969;}#sk-container-id-3 label.sk-toggleable__label-arrow:hover:before {color: black;}#sk-container-id-3 div.sk-estimator:hover label.sk-toggleable__label-arrow:before {color: black;}#sk-container-id-3 div.sk-toggleable__content {max-height: 0;max-width: 0;overflow: hidden;text-align: left;background-color: #f0f8ff;}#sk-container-id-3 div.sk-toggleable__content pre {margin: 0.2em;color: black;border-radius: 0.25em;background-color: #f0f8ff;}#sk-container-id-3 input.sk-toggleable__control:checked~div.sk-toggleable__content {max-height: 200px;max-width: 100%;overflow: auto;}#sk-container-id-3 input.sk-toggleable__control:checked~label.sk-toggleable__label-arrow:before {content: \"▾\";}#sk-container-id-3 div.sk-estimator input.sk-toggleable__control:checked~label.sk-toggleable__label {background-color: #d4ebff;}#sk-container-id-3 div.sk-label input.sk-toggleable__control:checked~label.sk-toggleable__label {background-color: #d4ebff;}#sk-container-id-3 input.sk-hidden--visually {border: 0;clip: rect(1px 1px 1px 1px);clip: rect(1px, 1px, 1px, 1px);height: 1px;margin: -1px;overflow: hidden;padding: 0;position: absolute;width: 1px;}#sk-container-id-3 div.sk-estimator {font-family: monospace;background-color: #f0f8ff;border: 1px dotted black;border-radius: 0.25em;box-sizing: border-box;margin-bottom: 0.5em;}#sk-container-id-3 div.sk-estimator:hover {background-color: #d4ebff;}#sk-container-id-3 div.sk-parallel-item::after {content: \"\";width: 100%;border-bottom: 1px solid gray;flex-grow: 1;}#sk-container-id-3 div.sk-label:hover label.sk-toggleable__label {background-color: #d4ebff;}#sk-container-id-3 div.sk-serial::before {content: \"\";position: absolute;border-left: 1px solid gray;box-sizing: border-box;top: 0;bottom: 0;left: 50%;z-index: 0;}#sk-container-id-3 div.sk-serial {display: flex;flex-direction: column;align-items: center;background-color: white;padding-right: 0.2em;padding-left: 0.2em;position: relative;}#sk-container-id-3 div.sk-item {position: relative;z-index: 1;}#sk-container-id-3 div.sk-parallel {display: flex;align-items: stretch;justify-content: center;background-color: white;position: relative;}#sk-container-id-3 div.sk-item::before, #sk-container-id-3 div.sk-parallel-item::before {content: \"\";position: absolute;border-left: 1px solid gray;box-sizing: border-box;top: 0;bottom: 0;left: 50%;z-index: -1;}#sk-container-id-3 div.sk-parallel-item {display: flex;flex-direction: column;z-index: 1;position: relative;background-color: white;}#sk-container-id-3 div.sk-parallel-item:first-child::after {align-self: flex-end;width: 50%;}#sk-container-id-3 div.sk-parallel-item:last-child::after {align-self: flex-start;width: 50%;}#sk-container-id-3 div.sk-parallel-item:only-child::after {width: 0;}#sk-container-id-3 div.sk-dashed-wrapped {border: 1px dashed gray;margin: 0 0.4em 0.5em 0.4em;box-sizing: border-box;padding-bottom: 0.4em;background-color: white;}#sk-container-id-3 div.sk-label label {font-family: monospace;font-weight: bold;display: inline-block;line-height: 1.2em;}#sk-container-id-3 div.sk-label-container {text-align: center;}#sk-container-id-3 div.sk-container {/* jupyter's `normalize.less` sets `[hidden] { display: none; }` but bootstrap.min.css set `[hidden] { display: none !important; }` so we also need the `!important` here to be able to override the default hidden behavior on the sphinx rendered scikit-learn.org. See: https://github.com/scikit-learn/scikit-learn/issues/21755 */display: inline-block !important;position: relative;}#sk-container-id-3 div.sk-text-repr-fallback {display: none;}</style><div id=\"sk-container-id-3\" class=\"sk-top-container\"><div class=\"sk-text-repr-fallback\"><pre>LogisticRegression()</pre><b>In a Jupyter environment, please rerun this cell to show the HTML representation or trust the notebook. <br />On GitHub, the HTML representation is unable to render, please try loading this page with nbviewer.org.</b></div><div class=\"sk-container\" hidden><div class=\"sk-item\"><div class=\"sk-estimator sk-toggleable\"><input class=\"sk-toggleable__control sk-hidden--visually\" id=\"sk-estimator-id-3\" type=\"checkbox\" checked><label for=\"sk-estimator-id-3\" class=\"sk-toggleable__label sk-toggleable__label-arrow\">LogisticRegression</label><div class=\"sk-toggleable__content\"><pre>LogisticRegression()</pre></div></div></div></div></div>"
      ],
      "text/plain": [
       "LogisticRegression()"
      ]
     },
     "execution_count": 56,
     "metadata": {},
     "output_type": "execute_result"
    }
   ],
   "source": [
    "logreg2.fit(x_train,y_train)"
   ]
  },
  {
   "cell_type": "code",
   "execution_count": 57,
   "id": "d4f8ee8a",
   "metadata": {},
   "outputs": [],
   "source": [
    "new_pred = logreg2.predict(x_test)"
   ]
  },
  {
   "cell_type": "code",
   "execution_count": 58,
   "id": "bc828c7e",
   "metadata": {
    "scrolled": true
   },
   "outputs": [
    {
     "name": "stdout",
     "output_type": "stream",
     "text": [
      "              precision    recall  f1-score   support\n",
      "\n",
      "           0       1.00      0.75      0.86      1311\n",
      "           1       0.00      0.00      0.00         0\n",
      "\n",
      "    accuracy                           0.75      1311\n",
      "   macro avg       0.50      0.38      0.43      1311\n",
      "weighted avg       1.00      0.75      0.86      1311\n",
      "\n"
     ]
    },
    {
     "name": "stderr",
     "output_type": "stream",
     "text": [
      "C:\\Users\\sidja\\anaconda3\\Lib\\site-packages\\sklearn\\metrics\\_classification.py:1344: UndefinedMetricWarning: Recall and F-score are ill-defined and being set to 0.0 in labels with no true samples. Use `zero_division` parameter to control this behavior.\n",
      "  _warn_prf(average, modifier, msg_start, len(result))\n",
      "C:\\Users\\sidja\\anaconda3\\Lib\\site-packages\\sklearn\\metrics\\_classification.py:1344: UndefinedMetricWarning: Recall and F-score are ill-defined and being set to 0.0 in labels with no true samples. Use `zero_division` parameter to control this behavior.\n",
      "  _warn_prf(average, modifier, msg_start, len(result))\n",
      "C:\\Users\\sidja\\anaconda3\\Lib\\site-packages\\sklearn\\metrics\\_classification.py:1344: UndefinedMetricWarning: Recall and F-score are ill-defined and being set to 0.0 in labels with no true samples. Use `zero_division` parameter to control this behavior.\n",
      "  _warn_prf(average, modifier, msg_start, len(result))\n"
     ]
    }
   ],
   "source": [
    "print(classification_report(new_pred,y_test))\n",
    "\n",
    "\n",
    "# Still the model could not predict the High Risk cases"
   ]
  },
  {
   "cell_type": "code",
   "execution_count": 59,
   "id": "dd9b7df1",
   "metadata": {},
   "outputs": [
    {
     "data": {
      "image/png": "[encoded data removed]",
      "text/plain": [
       "<Figure size 640x480 with 1 Axes>"
      ]
     },
     "metadata": {},
     "output_type": "display_data"
    },
    {
     "name": "stdout",
     "output_type": "stream",
     "text": [
      "              precision    recall  f1-score   support\n",
      "\n",
      "           0       0.96      0.63      0.76      1543\n",
      "           1       0.06      0.49      0.10        74\n",
      "\n",
      "    accuracy                           0.62      1617\n",
      "   macro avg       0.51      0.56      0.43      1617\n",
      "weighted avg       0.92      0.62      0.73      1617\n",
      "\n"
     ]
    }
   ],
   "source": [
    "# We try it adding 1 more time to make it a bit more balanced as a last resort for now\n",
    "\n",
    "\n",
    "\n",
    "\n",
    "df3 = new_df[(new_df[\"Target\"]==1)]\n",
    "new_df2 = pd.concat([new_df,df3])\n",
    "plt.hist(new_df2['Target'])\n",
    "plt.show()\n",
    "x = new_df2.iloc[:,:-1]\n",
    "y = new_df2.iloc[:,-1]\n",
    "x_train,x_test,y_train,y_test = train_test_split(x,y,test_size = 0.2,random_state=10 )\n",
    "logreg3 = LogisticRegression()\n",
    "logreg3.fit(x_train,y_train)\n",
    "new_pred2 = logreg3.predict(x_test)\n",
    "print(classification_report(new_pred2,y_test))\n",
    "\n",
    "\n",
    "\n",
    "# The Model has performed much better and identified some high risk cases finally"
   ]
  },
  {
   "cell_type": "code",
   "execution_count": 60,
   "id": "0bdb1788",
   "metadata": {},
   "outputs": [
    {
     "data": {
      "text/plain": [
       "(array([5025.,    0.,    0.,    0.,    0.,    0.,    0.,    0.,    0.,\n",
       "         765.]),\n",
       " array([0. , 0.1, 0.2, 0.3, 0.4, 0.5, 0.6, 0.7, 0.8, 0.9, 1. ]),\n",
       " <BarContainer object of 10 artists>)"
      ]
     },
     "execution_count": 60,
     "metadata": {},
     "output_type": "execute_result"
    },
    {
     "data": {
      "image/png": "[encoded data removed]",
      "text/plain": [
       "<Figure size 640x480 with 1 Axes>"
      ]
     },
     "metadata": {},
     "output_type": "display_data"
    }
   ],
   "source": [
    "plt.hist(df['Target'])"
   ]
  },
  {
   "cell_type": "code",
   "execution_count": 61,
   "id": "18550eaa",
   "metadata": {},
   "outputs": [],
   "source": [
    "actual_df = df"
   ]
  },
  {
   "cell_type": "code",
   "execution_count": 62,
   "id": "df30e778",
   "metadata": {
    "scrolled": true
   },
   "outputs": [
    {
     "data": {
      "text/html": [
       "<div>\n",
       "<style scoped>\n",
       "    .dataframe tbody tr th:only-of-type {\n",
       "        vertical-align: middle;\n",
       "    }\n",
       "\n",
       "    .dataframe tbody tr th {\n",
       "        vertical-align: top;\n",
       "    }\n",
       "\n",
       "    .dataframe thead th {\n",
       "        text-align: right;\n",
       "    }\n",
       "</style>\n",
       "<table border=\"1\" class=\"dataframe\">\n",
       "  <thead>\n",
       "    <tr style=\"text-align: right;\">\n",
       "      <th></th>\n",
       "      <th>Gender</th>\n",
       "      <th>Own_car</th>\n",
       "      <th>Own_property</th>\n",
       "      <th>Work_phone</th>\n",
       "      <th>Phone</th>\n",
       "      <th>Email</th>\n",
       "      <th>Unemployed</th>\n",
       "      <th>Num_family</th>\n",
       "      <th>Account_length</th>\n",
       "      <th>Total_income</th>\n",
       "      <th>Age</th>\n",
       "      <th>Years_employed</th>\n",
       "      <th>Income_type</th>\n",
       "      <th>Education_type</th>\n",
       "      <th>Family_status</th>\n",
       "      <th>Housing_type</th>\n",
       "      <th>Occupation_type</th>\n",
       "      <th>Target</th>\n",
       "    </tr>\n",
       "  </thead>\n",
       "  <tbody>\n",
       "    <tr>\n",
       "      <th>1</th>\n",
       "      <td>1</td>\n",
       "      <td>1</td>\n",
       "      <td>1</td>\n",
       "      <td>0</td>\n",
       "      <td>0</td>\n",
       "      <td>0</td>\n",
       "      <td>0</td>\n",
       "      <td>2</td>\n",
       "      <td>29</td>\n",
       "      <td>112500</td>\n",
       "      <td>58.793815</td>\n",
       "      <td>3.104787</td>\n",
       "      <td>4</td>\n",
       "      <td>4</td>\n",
       "      <td>1</td>\n",
       "      <td>1</td>\n",
       "      <td>17</td>\n",
       "      <td>0</td>\n",
       "    </tr>\n",
       "    <tr>\n",
       "      <th>4</th>\n",
       "      <td>1</td>\n",
       "      <td>1</td>\n",
       "      <td>1</td>\n",
       "      <td>1</td>\n",
       "      <td>1</td>\n",
       "      <td>1</td>\n",
       "      <td>0</td>\n",
       "      <td>2</td>\n",
       "      <td>5</td>\n",
       "      <td>270000</td>\n",
       "      <td>46.193967</td>\n",
       "      <td>2.105450</td>\n",
       "      <td>4</td>\n",
       "      <td>1</td>\n",
       "      <td>1</td>\n",
       "      <td>1</td>\n",
       "      <td>0</td>\n",
       "      <td>0</td>\n",
       "    </tr>\n",
       "    <tr>\n",
       "      <th>5</th>\n",
       "      <td>1</td>\n",
       "      <td>1</td>\n",
       "      <td>1</td>\n",
       "      <td>0</td>\n",
       "      <td>0</td>\n",
       "      <td>0</td>\n",
       "      <td>0</td>\n",
       "      <td>2</td>\n",
       "      <td>17</td>\n",
       "      <td>135000</td>\n",
       "      <td>48.674511</td>\n",
       "      <td>3.269061</td>\n",
       "      <td>0</td>\n",
       "      <td>4</td>\n",
       "      <td>1</td>\n",
       "      <td>1</td>\n",
       "      <td>8</td>\n",
       "      <td>0</td>\n",
       "    </tr>\n",
       "    <tr>\n",
       "      <th>6</th>\n",
       "      <td>0</td>\n",
       "      <td>1</td>\n",
       "      <td>0</td>\n",
       "      <td>0</td>\n",
       "      <td>0</td>\n",
       "      <td>0</td>\n",
       "      <td>0</td>\n",
       "      <td>2</td>\n",
       "      <td>25</td>\n",
       "      <td>130500</td>\n",
       "      <td>29.210730</td>\n",
       "      <td>3.019911</td>\n",
       "      <td>4</td>\n",
       "      <td>2</td>\n",
       "      <td>1</td>\n",
       "      <td>1</td>\n",
       "      <td>0</td>\n",
       "      <td>1</td>\n",
       "    </tr>\n",
       "    <tr>\n",
       "      <th>7</th>\n",
       "      <td>0</td>\n",
       "      <td>0</td>\n",
       "      <td>1</td>\n",
       "      <td>0</td>\n",
       "      <td>1</td>\n",
       "      <td>0</td>\n",
       "      <td>0</td>\n",
       "      <td>2</td>\n",
       "      <td>31</td>\n",
       "      <td>157500</td>\n",
       "      <td>27.463945</td>\n",
       "      <td>4.021985</td>\n",
       "      <td>4</td>\n",
       "      <td>4</td>\n",
       "      <td>1</td>\n",
       "      <td>1</td>\n",
       "      <td>8</td>\n",
       "      <td>1</td>\n",
       "    </tr>\n",
       "  </tbody>\n",
       "</table>\n",
       "</div>"
      ],
      "text/plain": [
       "   Gender  Own_car  Own_property  Work_phone  Phone  Email  Unemployed  \\\n",
       "1       1        1             1           0      0      0           0   \n",
       "4       1        1             1           1      1      1           0   \n",
       "5       1        1             1           0      0      0           0   \n",
       "6       0        1             0           0      0      0           0   \n",
       "7       0        0             1           0      1      0           0   \n",
       "\n",
       "   Num_family  Account_length  Total_income        Age  Years_employed  \\\n",
       "1           2              29        112500  58.793815        3.104787   \n",
       "4           2               5        270000  46.193967        2.105450   \n",
       "5           2              17        135000  48.674511        3.269061   \n",
       "6           2              25        130500  29.210730        3.019911   \n",
       "7           2              31        157500  27.463945        4.021985   \n",
       "\n",
       "   Income_type  Education_type  Family_status  Housing_type  Occupation_type  \\\n",
       "1            4               4              1             1               17   \n",
       "4            4               1              1             1                0   \n",
       "5            0               4              1             1                8   \n",
       "6            4               2              1             1                0   \n",
       "7            4               4              1             1                8   \n",
       "\n",
       "   Target  \n",
       "1       0  \n",
       "4       0  \n",
       "5       0  \n",
       "6       1  \n",
       "7       1  "
      ]
     },
     "execution_count": 62,
     "metadata": {},
     "output_type": "execute_result"
    }
   ],
   "source": [
    "actual_df.head()"
   ]
  },
  {
   "cell_type": "markdown",
   "id": "b3cf8ff8",
   "metadata": {},
   "source": [
    "## Trying the new model on our actual Data Frame"
   ]
  },
  {
   "cell_type": "code",
   "execution_count": 63,
   "id": "cd58f9ce",
   "metadata": {},
   "outputs": [
    {
     "name": "stdout",
     "output_type": "stream",
     "text": [
      "(5790, 18) (5790, 17) (5790,)\n"
     ]
    }
   ],
   "source": [
    "x = actual_df.iloc[:,:-1]\n",
    "y = actual_df.iloc[:,-1]\n",
    "\n",
    "print(df.shape,x.shape, y.shape)"
   ]
  },
  {
   "cell_type": "code",
   "execution_count": 64,
   "id": "8135d9ab",
   "metadata": {},
   "outputs": [],
   "source": [
    "x_train,x_test,y_train,y_test = train_test_split(x,y,test_size = 0.2,random_state =1)"
   ]
  },
  {
   "cell_type": "code",
   "execution_count": 65,
   "id": "3e94d8e0",
   "metadata": {},
   "outputs": [],
   "source": [
    "fpred = logreg3.predict(x_test)"
   ]
  },
  {
   "cell_type": "code",
   "execution_count": 66,
   "id": "788831b9",
   "metadata": {
    "scrolled": false
   },
   "outputs": [
    {
     "name": "stdout",
     "output_type": "stream",
     "text": [
      "              precision    recall  f1-score   support\n",
      "\n",
      "           0       0.97      0.89      0.93      1115\n",
      "           1       0.11      0.35      0.17        43\n",
      "\n",
      "    accuracy                           0.87      1158\n",
      "   macro avg       0.54      0.62      0.55      1158\n",
      "weighted avg       0.94      0.87      0.90      1158\n",
      "\n"
     ]
    }
   ],
   "source": [
    "print(classification_report(fpred,y_test))"
   ]
  },
  {
   "cell_type": "markdown",
   "id": "6f9aaea0",
   "metadata": {},
   "source": [
    "**The model has actually adapted better and could predict few high risk cases. This again may or may not be accepted, The financials has to be checked on this. There might be some cases which could be high risk but are classified as low and hence the company could possibly incurr losses, while there also might be some cases which are low risks but classified as high, resulting in a loss of revenue eventually.** \n",
    "\n",
    "**Again, we started by taking all the variables without choosing among them. We can now go for feature scaling as well as choosing various mixes of variables, which in turn might help in getting a better trained model.**\n",
    "\n",
    "**We also need to test various other models like DecisionTree & RandomForest on all of these parameters**"
   ]
  },
  {
   "cell_type": "markdown",
   "id": "b3004c74",
   "metadata": {},
   "source": [
    "# Feature Selection"
   ]
  },
  {
   "cell_type": "code",
   "execution_count": 67,
   "id": "aa4ee883",
   "metadata": {
    "scrolled": true
   },
   "outputs": [
    {
     "data": {
      "text/html": [
       "<div>\n",
       "<style scoped>\n",
       "    .dataframe tbody tr th:only-of-type {\n",
       "        vertical-align: middle;\n",
       "    }\n",
       "\n",
       "    .dataframe tbody tr th {\n",
       "        vertical-align: top;\n",
       "    }\n",
       "\n",
       "    .dataframe thead th {\n",
       "        text-align: right;\n",
       "    }\n",
       "</style>\n",
       "<table border=\"1\" class=\"dataframe\">\n",
       "  <thead>\n",
       "    <tr style=\"text-align: right;\">\n",
       "      <th></th>\n",
       "      <th>Gender</th>\n",
       "      <th>Own_car</th>\n",
       "      <th>Own_property</th>\n",
       "      <th>Work_phone</th>\n",
       "      <th>Phone</th>\n",
       "      <th>Email</th>\n",
       "      <th>Unemployed</th>\n",
       "      <th>Num_family</th>\n",
       "      <th>Account_length</th>\n",
       "      <th>Total_income</th>\n",
       "      <th>Age</th>\n",
       "      <th>Years_employed</th>\n",
       "      <th>Income_type</th>\n",
       "      <th>Education_type</th>\n",
       "      <th>Family_status</th>\n",
       "      <th>Housing_type</th>\n",
       "      <th>Occupation_type</th>\n",
       "      <th>Target</th>\n",
       "    </tr>\n",
       "  </thead>\n",
       "  <tbody>\n",
       "    <tr>\n",
       "      <th>1</th>\n",
       "      <td>1</td>\n",
       "      <td>1</td>\n",
       "      <td>1</td>\n",
       "      <td>0</td>\n",
       "      <td>0</td>\n",
       "      <td>0</td>\n",
       "      <td>0</td>\n",
       "      <td>2</td>\n",
       "      <td>29</td>\n",
       "      <td>112500</td>\n",
       "      <td>58.793815</td>\n",
       "      <td>3.104787</td>\n",
       "      <td>4</td>\n",
       "      <td>4</td>\n",
       "      <td>1</td>\n",
       "      <td>1</td>\n",
       "      <td>17</td>\n",
       "      <td>0</td>\n",
       "    </tr>\n",
       "    <tr>\n",
       "      <th>4</th>\n",
       "      <td>1</td>\n",
       "      <td>1</td>\n",
       "      <td>1</td>\n",
       "      <td>1</td>\n",
       "      <td>1</td>\n",
       "      <td>1</td>\n",
       "      <td>0</td>\n",
       "      <td>2</td>\n",
       "      <td>5</td>\n",
       "      <td>270000</td>\n",
       "      <td>46.193967</td>\n",
       "      <td>2.105450</td>\n",
       "      <td>4</td>\n",
       "      <td>1</td>\n",
       "      <td>1</td>\n",
       "      <td>1</td>\n",
       "      <td>0</td>\n",
       "      <td>0</td>\n",
       "    </tr>\n",
       "    <tr>\n",
       "      <th>5</th>\n",
       "      <td>1</td>\n",
       "      <td>1</td>\n",
       "      <td>1</td>\n",
       "      <td>0</td>\n",
       "      <td>0</td>\n",
       "      <td>0</td>\n",
       "      <td>0</td>\n",
       "      <td>2</td>\n",
       "      <td>17</td>\n",
       "      <td>135000</td>\n",
       "      <td>48.674511</td>\n",
       "      <td>3.269061</td>\n",
       "      <td>0</td>\n",
       "      <td>4</td>\n",
       "      <td>1</td>\n",
       "      <td>1</td>\n",
       "      <td>8</td>\n",
       "      <td>0</td>\n",
       "    </tr>\n",
       "    <tr>\n",
       "      <th>6</th>\n",
       "      <td>0</td>\n",
       "      <td>1</td>\n",
       "      <td>0</td>\n",
       "      <td>0</td>\n",
       "      <td>0</td>\n",
       "      <td>0</td>\n",
       "      <td>0</td>\n",
       "      <td>2</td>\n",
       "      <td>25</td>\n",
       "      <td>130500</td>\n",
       "      <td>29.210730</td>\n",
       "      <td>3.019911</td>\n",
       "      <td>4</td>\n",
       "      <td>2</td>\n",
       "      <td>1</td>\n",
       "      <td>1</td>\n",
       "      <td>0</td>\n",
       "      <td>1</td>\n",
       "    </tr>\n",
       "    <tr>\n",
       "      <th>7</th>\n",
       "      <td>0</td>\n",
       "      <td>0</td>\n",
       "      <td>1</td>\n",
       "      <td>0</td>\n",
       "      <td>1</td>\n",
       "      <td>0</td>\n",
       "      <td>0</td>\n",
       "      <td>2</td>\n",
       "      <td>31</td>\n",
       "      <td>157500</td>\n",
       "      <td>27.463945</td>\n",
       "      <td>4.021985</td>\n",
       "      <td>4</td>\n",
       "      <td>4</td>\n",
       "      <td>1</td>\n",
       "      <td>1</td>\n",
       "      <td>8</td>\n",
       "      <td>1</td>\n",
       "    </tr>\n",
       "  </tbody>\n",
       "</table>\n",
       "</div>"
      ],
      "text/plain": [
       "   Gender  Own_car  Own_property  Work_phone  Phone  Email  Unemployed  \\\n",
       "1       1        1             1           0      0      0           0   \n",
       "4       1        1             1           1      1      1           0   \n",
       "5       1        1             1           0      0      0           0   \n",
       "6       0        1             0           0      0      0           0   \n",
       "7       0        0             1           0      1      0           0   \n",
       "\n",
       "   Num_family  Account_length  Total_income        Age  Years_employed  \\\n",
       "1           2              29        112500  58.793815        3.104787   \n",
       "4           2               5        270000  46.193967        2.105450   \n",
       "5           2              17        135000  48.674511        3.269061   \n",
       "6           2              25        130500  29.210730        3.019911   \n",
       "7           2              31        157500  27.463945        4.021985   \n",
       "\n",
       "   Income_type  Education_type  Family_status  Housing_type  Occupation_type  \\\n",
       "1            4               4              1             1               17   \n",
       "4            4               1              1             1                0   \n",
       "5            0               4              1             1                8   \n",
       "6            4               2              1             1                0   \n",
       "7            4               4              1             1                8   \n",
       "\n",
       "   Target  \n",
       "1       0  \n",
       "4       0  \n",
       "5       0  \n",
       "6       1  \n",
       "7       1  "
      ]
     },
     "execution_count": 67,
     "metadata": {},
     "output_type": "execute_result"
    }
   ],
   "source": [
    "actual_df.head()"
   ]
  },
  {
   "cell_type": "code",
   "execution_count": 68,
   "id": "9a5fee75",
   "metadata": {},
   "outputs": [],
   "source": [
    "X = actual_df.iloc[:,:-1]\n",
    "y = actual_df.iloc[:,-1]"
   ]
  },
  {
   "cell_type": "markdown",
   "id": "cf209bc1",
   "metadata": {},
   "source": [
    "## Variance Scaler"
   ]
  },
  {
   "cell_type": "code",
   "execution_count": 69,
   "id": "4afcda94",
   "metadata": {},
   "outputs": [],
   "source": [
    "X_train,X_test,y_train,y_test = train_test_split(X,y,test_size = 0.3, random_state = 1)"
   ]
  },
  {
   "cell_type": "code",
   "execution_count": 70,
   "id": "64a6a669",
   "metadata": {},
   "outputs": [],
   "source": [
    "X_train_v1, X_test_v1,y_train_v1,y_test_v1 = X_train.copy(), X_test.copy(),y_train.copy(),y_test.copy()"
   ]
  },
  {
   "cell_type": "code",
   "execution_count": 71,
   "id": "7cad5e03",
   "metadata": {},
   "outputs": [
    {
     "data": {
      "text/plain": [
       "Gender             2.282504e-01\n",
       "Own_car            2.362362e-01\n",
       "Own_property       2.214483e-01\n",
       "Work_phone         1.667791e-01\n",
       "Phone              2.046593e-01\n",
       "Email              7.789557e-02\n",
       "Unemployed         1.575647e-01\n",
       "Num_family         1.779159e-01\n",
       "Account_length     2.767216e+02\n",
       "Total_income       4.047335e+09\n",
       "Age                1.346683e+02\n",
       "Years_employed     1.631071e+01\n",
       "Income_type        3.050501e+00\n",
       "Education_type     1.647608e+00\n",
       "Family_status      2.670182e-01\n",
       "Housing_type       8.238851e-01\n",
       "Occupation_type    1.865055e+01\n",
       "dtype: float64"
      ]
     },
     "execution_count": 71,
     "metadata": {},
     "output_type": "execute_result"
    }
   ],
   "source": [
    "X_train_v1.var(axis = 0)"
   ]
  },
  {
   "cell_type": "code",
   "execution_count": 72,
   "id": "7c173494",
   "metadata": {},
   "outputs": [],
   "source": [
    "from sklearn.preprocessing import MinMaxScaler\n",
    "\n",
    "scaler = MinMaxScaler()\n",
    "\n",
    "scaled_X_train_v1 = scaler.fit_transform(X_train_v1)"
   ]
  },
  {
   "cell_type": "code",
   "execution_count": 74,
   "id": "f495e23f",
   "metadata": {},
   "outputs": [
    {
     "data": {
      "image/png": "[encoded data removed]",
      "text/plain": [
       "<Figure size 1400x800 with 1 Axes>"
      ]
     },
     "metadata": {},
     "output_type": "display_data"
    }
   ],
   "source": [
    "scaled_variance = scaled_X_train_v1.var(axis = 0)\n",
    "col= X.columns\n",
    "\n",
    "plt.figure(figsize = (14,8))\n",
    "sns.barplot(x = X.columns, y = scaled_variance)\n",
    "plt.xticks(rotation=20)\n",
    "plt.show()"
   ]
  },
  {
   "cell_type": "code",
   "execution_count": 75,
   "id": "e08d9acb",
   "metadata": {},
   "outputs": [
    {
     "data": {
      "text/html": [
       "<div>\n",
       "<style scoped>\n",
       "    .dataframe tbody tr th:only-of-type {\n",
       "        vertical-align: middle;\n",
       "    }\n",
       "\n",
       "    .dataframe tbody tr th {\n",
       "        vertical-align: top;\n",
       "    }\n",
       "\n",
       "    .dataframe thead th {\n",
       "        text-align: right;\n",
       "    }\n",
       "</style>\n",
       "<table border=\"1\" class=\"dataframe\">\n",
       "  <thead>\n",
       "    <tr style=\"text-align: right;\">\n",
       "      <th></th>\n",
       "      <th>Gender</th>\n",
       "      <th>Own_car</th>\n",
       "      <th>Own_property</th>\n",
       "      <th>Work_phone</th>\n",
       "      <th>Phone</th>\n",
       "      <th>Email</th>\n",
       "      <th>Unemployed</th>\n",
       "      <th>Num_family</th>\n",
       "      <th>Account_length</th>\n",
       "      <th>Total_income</th>\n",
       "      <th>Age</th>\n",
       "      <th>Years_employed</th>\n",
       "      <th>Income_type</th>\n",
       "      <th>Education_type</th>\n",
       "      <th>Family_status</th>\n",
       "      <th>Housing_type</th>\n",
       "      <th>Occupation_type</th>\n",
       "    </tr>\n",
       "  </thead>\n",
       "  <tbody>\n",
       "    <tr>\n",
       "      <th>1504</th>\n",
       "      <td>0</td>\n",
       "      <td>1</td>\n",
       "      <td>1</td>\n",
       "      <td>0</td>\n",
       "      <td>0</td>\n",
       "      <td>0</td>\n",
       "      <td>0</td>\n",
       "      <td>2</td>\n",
       "      <td>16</td>\n",
       "      <td>234000</td>\n",
       "      <td>51.458962</td>\n",
       "      <td>6.806437</td>\n",
       "      <td>4</td>\n",
       "      <td>4</td>\n",
       "      <td>1</td>\n",
       "      <td>1</td>\n",
       "      <td>8</td>\n",
       "    </tr>\n",
       "  </tbody>\n",
       "</table>\n",
       "</div>"
      ],
      "text/plain": [
       "      Gender  Own_car  Own_property  Work_phone  Phone  Email  Unemployed  \\\n",
       "1504       0        1             1           0      0      0           0   \n",
       "\n",
       "      Num_family  Account_length  Total_income        Age  Years_employed  \\\n",
       "1504           2              16        234000  51.458962        6.806437   \n",
       "\n",
       "      Income_type  Education_type  Family_status  Housing_type  \\\n",
       "1504            4               4              1             1   \n",
       "\n",
       "      Occupation_type  \n",
       "1504                8  "
      ]
     },
     "execution_count": 75,
     "metadata": {},
     "output_type": "execute_result"
    }
   ],
   "source": [
    "X_train_v1.head(1)"
   ]
  },
  {
   "cell_type": "code",
   "execution_count": 76,
   "id": "d5f8dfec",
   "metadata": {},
   "outputs": [],
   "source": [
    "# I will drop the 5 columns having least variance\n",
    "\n",
    "sel_X_train_v1 = X_train_v1.drop(['Income_type', 'Family_status','Housing_type'], axis = 1)\n",
    "sel_X_test_v1 = X_test_v1.drop(['Income_type', 'Family_status','Housing_type'], axis = 1)"
   ]
  },
  {
   "cell_type": "code",
   "execution_count": 77,
   "id": "384fa2d8",
   "metadata": {},
   "outputs": [
    {
     "name": "stdout",
     "output_type": "stream",
     "text": [
      "              precision    recall  f1-score   support\n",
      "\n",
      "           0       0.88      1.00      0.94      1528\n",
      "           1       0.00      0.00      0.00       209\n",
      "\n",
      "    accuracy                           0.88      1737\n",
      "   macro avg       0.44      0.50      0.47      1737\n",
      "weighted avg       0.77      0.88      0.82      1737\n",
      "\n"
     ]
    },
    {
     "name": "stderr",
     "output_type": "stream",
     "text": [
      "C:\\Users\\sidja\\anaconda3\\Lib\\site-packages\\sklearn\\metrics\\_classification.py:1344: UndefinedMetricWarning: Precision and F-score are ill-defined and being set to 0.0 in labels with no predicted samples. Use `zero_division` parameter to control this behavior.\n",
      "  _warn_prf(average, modifier, msg_start, len(result))\n",
      "C:\\Users\\sidja\\anaconda3\\Lib\\site-packages\\sklearn\\metrics\\_classification.py:1344: UndefinedMetricWarning: Precision and F-score are ill-defined and being set to 0.0 in labels with no predicted samples. Use `zero_division` parameter to control this behavior.\n",
      "  _warn_prf(average, modifier, msg_start, len(result))\n",
      "C:\\Users\\sidja\\anaconda3\\Lib\\site-packages\\sklearn\\metrics\\_classification.py:1344: UndefinedMetricWarning: Precision and F-score are ill-defined and being set to 0.0 in labels with no predicted samples. Use `zero_division` parameter to control this behavior.\n",
      "  _warn_prf(average, modifier, msg_start, len(result))\n"
     ]
    }
   ],
   "source": [
    "logreg3.fit(sel_X_train_v1,y_train)\n",
    "\n",
    "\n",
    "pred_v1 = logreg3.predict(sel_X_test_v1)\n",
    "\n",
    "cm_v1 = classification_report(y_test_v1, pred_v1)\n",
    "\n",
    "print(cm_v1)"
   ]
  },
  {
   "cell_type": "code",
   "execution_count": 78,
   "id": "06060499",
   "metadata": {},
   "outputs": [
    {
     "data": {
      "image/png": "[encoded data removed]",
      "text/plain": [
       "<Figure size 640x480 with 1 Axes>"
      ]
     },
     "metadata": {},
     "output_type": "display_data"
    },
    {
     "name": "stdout",
     "output_type": "stream",
     "text": [
      "              precision    recall  f1-score   support\n",
      "\n",
      "           0       0.96      0.63      0.76      1544\n",
      "           1       0.06      0.49      0.11        73\n",
      "\n",
      "    accuracy                           0.62      1617\n",
      "   macro avg       0.51      0.56      0.43      1617\n",
      "weighted avg       0.92      0.62      0.73      1617\n",
      "\n"
     ]
    }
   ],
   "source": [
    "## Trying to predict the new data having less features on the old model which could predict high risk cases\n",
    "\n",
    "\n",
    "# Re run the old model\n",
    "\n",
    "# We try it adding 1 more time to make it a bit more balanced as a last resort for now\n",
    "\n",
    "\n",
    "\n",
    "\n",
    "df3 = new_df[(new_df[\"Target\"]==1)]\n",
    "new_df2 = pd.concat([new_df,df3])\n",
    "plt.hist(new_df2['Target'])\n",
    "plt.show()\n",
    "x = new_df2.drop(['Family_status','Housing_type','Income_type','Target'], axis = 1)\n",
    "y = new_df2.iloc[:,-1]\n",
    "x_train,x_test,y_train,y_test = train_test_split(x,y,test_size = 0.2,random_state=10 )\n",
    "logreg3 = LogisticRegression()\n",
    "logreg3.fit(x_train,y_train)\n",
    "new_pred2 = logreg3.predict(x_test)\n",
    "print(classification_report(new_pred2,y_test))\n",
    "\n",
    "\n",
    "\n",
    "# The Model has performed much better and identified some high risk cases finally"
   ]
  },
  {
   "cell_type": "code",
   "execution_count": 79,
   "id": "b1378abd",
   "metadata": {
    "scrolled": true
   },
   "outputs": [
    {
     "name": "stdout",
     "output_type": "stream",
     "text": [
      "              precision    recall  f1-score   support\n",
      "\n",
      "           0       0.63      0.96      0.76      1005\n",
      "           1       0.49      0.06      0.11       612\n",
      "\n",
      "    accuracy                           0.62      1617\n",
      "   macro avg       0.56      0.51      0.43      1617\n",
      "weighted avg       0.58      0.62      0.51      1617\n",
      "\n"
     ]
    }
   ],
   "source": [
    "pred_v1 = logreg3.predict(x_test)\n",
    "cr_v1 = classification_report(y_test, pred_v1)\n",
    "print(cr_v1)"
   ]
  },
  {
   "cell_type": "code",
   "execution_count": 80,
   "id": "eb921319",
   "metadata": {},
   "outputs": [
    {
     "data": {
      "image/png": "[encoded data removed]",
      "text/plain": [
       "<Figure size 1000x300 with 2 Axes>"
      ]
     },
     "metadata": {},
     "output_type": "display_data"
    }
   ],
   "source": [
    "cm_v1 = confusion_matrix(y_test,pred_v1)\n",
    "plt.figure(figsize = (10,3))\n",
    "sns.heatmap(cm_v1, annot = True, fmt = 'd')\n",
    "plt.xlabel(\"Predicted Data\")\n",
    "plt.ylabel(\"Actual Data\")\n",
    "plt.show()"
   ]
  },
  {
   "cell_type": "markdown",
   "id": "4654e813",
   "metadata": {},
   "source": [
    "# We could finally get the model to train on catching few more high risk cases"
   ]
  },
  {
   "cell_type": "code",
   "execution_count": 81,
   "id": "d459b44a",
   "metadata": {},
   "outputs": [
    {
     "data": {
      "text/plain": [
       "array([[968,  37],\n",
       "       [576,  36]], dtype=int64)"
      ]
     },
     "execution_count": 81,
     "metadata": {},
     "output_type": "execute_result"
    }
   ],
   "source": [
    "cm_v1"
   ]
  },
  {
   "cell_type": "markdown",
   "id": "7b978d4d",
   "metadata": {},
   "source": [
    "# Receiver operating characteristics curve"
   ]
  },
  {
   "cell_type": "code",
   "execution_count": 82,
   "id": "184bbdb2",
   "metadata": {},
   "outputs": [
    {
     "data": {
      "image/png": "[encoded data removed]",
      "text/plain": [
       "<Figure size 1500x400 with 1 Axes>"
      ]
     },
     "metadata": {},
     "output_type": "display_data"
    }
   ],
   "source": [
    "from sklearn.metrics import roc_curve, auc\n",
    "\n",
    "y_probs = logreg3.predict_proba(x_test)[:, 1]\n",
    "\n",
    "fpr, tpr, thresholds = roc_curve(y_test, y_probs)\n",
    "roc_auc = auc(fpr, tpr)\n",
    "\n",
    "plt.figure(figsize = (15, 4))\n",
    "plt.title(\"ROC curve with AUC\")\n",
    "plt.plot(fpr, tpr, \"red\", label = f\"ROC curve (AUC - {roc_auc:.2f})\")\n",
    "plt.plot([0,1], [0,1], \"g--\", label = \"Random Guessing\")\n",
    "plt.xlabel(\"False Positive Rate\")\n",
    "plt.ylabel(\"True Positive Rate\")\n",
    "plt.legend();"
   ]
  },
  {
   "cell_type": "markdown",
   "id": "ccda7a4a",
   "metadata": {},
   "source": [
    "# Trying VIF on the Dataset"
   ]
  },
  {
   "cell_type": "code",
   "execution_count": 92,
   "id": "1f696b7f",
   "metadata": {},
   "outputs": [
    {
     "data": {
      "text/plain": [
       "(5790, 18)"
      ]
     },
     "execution_count": 92,
     "metadata": {},
     "output_type": "execute_result"
    }
   ],
   "source": [
    "df.shape"
   ]
  },
  {
   "cell_type": "code",
   "execution_count": 93,
   "id": "f973a6ee",
   "metadata": {},
   "outputs": [],
   "source": [
    "x = df.iloc[:,:-1]\n",
    "y = df.iloc[:,-1]"
   ]
  },
  {
   "cell_type": "code",
   "execution_count": 86,
   "id": "c45cda61",
   "metadata": {},
   "outputs": [],
   "source": [
    "from statsmodels.stats.outliers_influence import variance_inflation_factor"
   ]
  },
  {
   "cell_type": "code",
   "execution_count": 95,
   "id": "b878b123",
   "metadata": {},
   "outputs": [
    {
     "name": "stdout",
     "output_type": "stream",
     "text": [
      "            feature        VIF\n",
      "0            Gender   1.862876\n",
      "1           Own_car   1.889673\n",
      "2      Own_property   3.277064\n",
      "3        Work_phone   1.524974\n",
      "4             Phone   1.541644\n",
      "5             Email   1.120161\n",
      "6        Unemployed   3.345017\n",
      "7        Num_family  17.163538\n",
      "8    Account_length   3.738513\n",
      "9      Total_income   8.038467\n",
      "10              Age  21.420933\n",
      "11   Years_employed   3.071251\n",
      "12      Income_type   3.286485\n",
      "13   Education_type   7.660427\n",
      "14    Family_status   4.228030\n",
      "15     Housing_type   2.938127\n",
      "16  Occupation_type   6.082110\n"
     ]
    }
   ],
   "source": [
    "vif_data = pd.DataFrame()\n",
    "\n",
    "vif_data[\"feature\"] = x.columns\n",
    "vif_data[\"VIF\"] = [variance_inflation_factor(x.values,i) for i in range(len(x.columns))]\n",
    "print(vif_data)"
   ]
  },
  {
   "cell_type": "code",
   "execution_count": 96,
   "id": "d378f6d1",
   "metadata": {},
   "outputs": [
    {
     "name": "stdout",
     "output_type": "stream",
     "text": [
      "            feature        VIF\n",
      "0            Gender   1.862874\n",
      "1           Own_car   1.889416\n",
      "2      Own_property   3.168352\n",
      "3        Work_phone   1.523811\n",
      "4             Phone   1.531953\n",
      "5             Email   1.118563\n",
      "6        Unemployed   2.125878\n",
      "7        Num_family  16.439247\n",
      "8    Account_length   3.640660\n",
      "9      Total_income   7.596556\n",
      "10   Years_employed   2.889645\n",
      "11      Income_type   3.235917\n",
      "12   Education_type   7.002242\n",
      "13    Family_status   4.138168\n",
      "14     Housing_type   2.937867\n",
      "15  Occupation_type   5.921087\n"
     ]
    }
   ],
   "source": [
    "x = x.drop('Age', axis = 1)\n",
    "\n",
    "vif_data = pd.DataFrame()\n",
    "\n",
    "vif_data[\"feature\"] = x.columns\n",
    "vif_data[\"VIF\"] = [variance_inflation_factor(x.values,i) for i in range(len(x.columns))]\n",
    "print(vif_data)"
   ]
  },
  {
   "cell_type": "code",
   "execution_count": 97,
   "id": "5f56ba86",
   "metadata": {},
   "outputs": [
    {
     "name": "stdout",
     "output_type": "stream",
     "text": [
      "            feature       VIF\n",
      "0            Gender  1.862660\n",
      "1           Own_car  1.879009\n",
      "2      Own_property  3.036839\n",
      "3        Work_phone  1.509617\n",
      "4             Phone  1.530824\n",
      "5             Email  1.113340\n",
      "6        Unemployed  2.122796\n",
      "7    Account_length  3.558056\n",
      "8      Total_income  6.721907\n",
      "9    Years_employed  2.848788\n",
      "10      Income_type  3.121438\n",
      "11   Education_type  6.321629\n",
      "12    Family_status  4.060261\n",
      "13     Housing_type  2.756001\n",
      "14  Occupation_type  5.624388\n"
     ]
    }
   ],
   "source": [
    "x = x.drop('Num_family', axis = 1)\n",
    "vif_data = pd.DataFrame()\n",
    "\n",
    "vif_data[\"feature\"] = x.columns\n",
    "vif_data[\"VIF\"] = [variance_inflation_factor(x.values,i) for i in range(len(x.columns))]\n",
    "print(vif_data)"
   ]
  },
  {
   "cell_type": "code",
   "execution_count": 100,
   "id": "c4ec0443",
   "metadata": {},
   "outputs": [],
   "source": [
    "x_train,x_test,y_train,y_test = train_test_split(x,y,shuffle = True,test_size = 0.3, random_state= 10)"
   ]
  },
  {
   "cell_type": "code",
   "execution_count": 104,
   "id": "e3ca91f7",
   "metadata": {},
   "outputs": [
    {
     "data": {
      "text/plain": [
       "0    3532\n",
       "1     521\n",
       "Name: Target, dtype: int64"
      ]
     },
     "execution_count": 104,
     "metadata": {},
     "output_type": "execute_result"
    }
   ],
   "source": [
    "y_train.value_counts()"
   ]
  },
  {
   "cell_type": "code",
   "execution_count": 107,
   "id": "6f91ee49",
   "metadata": {},
   "outputs": [
    {
     "data": {
      "text/plain": [
       "0    1493\n",
       "1     244\n",
       "Name: Target, dtype: int64"
      ]
     },
     "execution_count": 107,
     "metadata": {},
     "output_type": "execute_result"
    }
   ],
   "source": [
    "y_test.value_counts()"
   ]
  },
  {
   "cell_type": "code",
   "execution_count": 108,
   "id": "6ea248e1",
   "metadata": {
    "scrolled": true
   },
   "outputs": [
    {
     "name": "stdout",
     "output_type": "stream",
     "text": [
      "[[1493  244]\n",
      " [   0    0]]\n",
      "              precision    recall  f1-score   support\n",
      "\n",
      "           0       0.86      1.00      0.92      1493\n",
      "           1       0.00      0.00      0.00       244\n",
      "\n",
      "    accuracy                           0.86      1737\n",
      "   macro avg       0.43      0.50      0.46      1737\n",
      "weighted avg       0.74      0.86      0.79      1737\n",
      "\n"
     ]
    },
    {
     "name": "stderr",
     "output_type": "stream",
     "text": [
      "C:\\Users\\sidja\\anaconda3\\Lib\\site-packages\\sklearn\\metrics\\_classification.py:1344: UndefinedMetricWarning: Precision and F-score are ill-defined and being set to 0.0 in labels with no predicted samples. Use `zero_division` parameter to control this behavior.\n",
      "  _warn_prf(average, modifier, msg_start, len(result))\n",
      "C:\\Users\\sidja\\anaconda3\\Lib\\site-packages\\sklearn\\metrics\\_classification.py:1344: UndefinedMetricWarning: Precision and F-score are ill-defined and being set to 0.0 in labels with no predicted samples. Use `zero_division` parameter to control this behavior.\n",
      "  _warn_prf(average, modifier, msg_start, len(result))\n",
      "C:\\Users\\sidja\\anaconda3\\Lib\\site-packages\\sklearn\\metrics\\_classification.py:1344: UndefinedMetricWarning: Precision and F-score are ill-defined and being set to 0.0 in labels with no predicted samples. Use `zero_division` parameter to control this behavior.\n",
      "  _warn_prf(average, modifier, msg_start, len(result))\n"
     ]
    }
   ],
   "source": [
    "logreg = LogisticRegression()\n",
    "logreg.fit(x_train,y_train)\n",
    "pred = logreg.predict(x_test)\n",
    "print(confusion_matrix(pred,y_test,))\n",
    "print(classification_report(y_test,pred))"
   ]
  },
  {
   "cell_type": "markdown",
   "id": "a8ba408f",
   "metadata": {},
   "source": [
    "**The normal VIF with LogReg turned out to be equally bad like the first model, we got to duplicate the records inorder to get a more balanced dataset and try it again**"
   ]
  },
  {
   "cell_type": "code",
   "execution_count": 122,
   "id": "8faf40b0",
   "metadata": {},
   "outputs": [],
   "source": [
    "x['Target']= y"
   ]
  },
  {
   "cell_type": "code",
   "execution_count": 123,
   "id": "d65aa650",
   "metadata": {},
   "outputs": [
    {
     "data": {
      "text/plain": [
       "(5790, 16)"
      ]
     },
     "execution_count": 123,
     "metadata": {},
     "output_type": "execute_result"
    }
   ],
   "source": [
    "x.shape"
   ]
  },
  {
   "cell_type": "code",
   "execution_count": 125,
   "id": "0f63cb96",
   "metadata": {},
   "outputs": [
    {
     "data": {
      "text/plain": [
       "0    5025\n",
       "1     765\n",
       "Name: Target, dtype: int64"
      ]
     },
     "execution_count": 125,
     "metadata": {},
     "output_type": "execute_result"
    }
   ],
   "source": [
    "x['Target'].value_counts()"
   ]
  },
  {
   "cell_type": "code",
   "execution_count": 128,
   "id": "2f4d59ec",
   "metadata": {},
   "outputs": [],
   "source": [
    "x = pd.concat([x, x[(x['Target']==1)]])"
   ]
  },
  {
   "cell_type": "code",
   "execution_count": 129,
   "id": "e0d35925",
   "metadata": {},
   "outputs": [
    {
     "data": {
      "text/plain": [
       "0    5025\n",
       "1    1530\n",
       "Name: Target, dtype: int64"
      ]
     },
     "execution_count": 129,
     "metadata": {},
     "output_type": "execute_result"
    }
   ],
   "source": [
    "x['Target'].value_counts()"
   ]
  },
  {
   "cell_type": "code",
   "execution_count": 130,
   "id": "2897da15",
   "metadata": {},
   "outputs": [
    {
     "data": {
      "text/plain": [
       "0    5025\n",
       "1    3060\n",
       "Name: Target, dtype: int64"
      ]
     },
     "execution_count": 130,
     "metadata": {},
     "output_type": "execute_result"
    }
   ],
   "source": [
    "x = pd.concat([x, x[(x['Target']==1)]])\n",
    "x['Target'].value_counts()"
   ]
  },
  {
   "cell_type": "code",
   "execution_count": 135,
   "id": "3a151267",
   "metadata": {},
   "outputs": [],
   "source": [
    "scaler = MinMaxScaler()"
   ]
  },
  {
   "cell_type": "code",
   "execution_count": 141,
   "id": "36bcf97f",
   "metadata": {},
   "outputs": [],
   "source": [
    "scaled_df = pd.DataFrame(scaler.fit_transform(x), columns = x.columns)"
   ]
  },
  {
   "cell_type": "code",
   "execution_count": 144,
   "id": "08b7f172",
   "metadata": {},
   "outputs": [
    {
     "data": {
      "text/plain": [
       "0.0    5025\n",
       "1.0    3060\n",
       "Name: Target, dtype: int64"
      ]
     },
     "execution_count": 144,
     "metadata": {},
     "output_type": "execute_result"
    }
   ],
   "source": [
    "scaled_df['Target'].value_counts()"
   ]
  },
  {
   "cell_type": "code",
   "execution_count": 166,
   "id": "4b800b99",
   "metadata": {
    "scrolled": false
   },
   "outputs": [
    {
     "name": "stdout",
     "output_type": "stream",
     "text": [
      "              precision    recall  f1-score   support\n",
      "\n",
      "         0.0       0.97      0.62      0.76      2326\n",
      "         1.0       0.06      0.55      0.11       100\n",
      "\n",
      "    accuracy                           0.62      2426\n",
      "   macro avg       0.51      0.59      0.43      2426\n",
      "weighted avg       0.93      0.62      0.73      2426\n",
      "\n"
     ]
    },
    {
     "data": {
      "image/png": "[encoded data removed]",
      "text/plain": [
       "<Figure size 700x400 with 2 Axes>"
      ]
     },
     "metadata": {},
     "output_type": "display_data"
    },
    {
     "data": {
      "image/png": "[encoded data removed]",
      "text/plain": [
       "<Figure size 700x400 with 2 Axes>"
      ]
     },
     "metadata": {},
     "output_type": "display_data"
    }
   ],
   "source": [
    "scaled_x = scaled_df.iloc[:,:-1]\n",
    "scaled_y = scaled_df.iloc[:,-1]\n",
    "\n",
    "x_train,x_test,y_train,y_test = train_test_split(scaled_x,scaled_y,test_size= 0.3, shuffle = True, random_state = 10)\n",
    "\n",
    "logreg.fit(x_train,y_train)\n",
    "pred = logreg.predict(x_test)\n",
    "print(classification_report(pred,y_test))\n",
    "\n",
    "plt.figure(figsize = (7,4))\n",
    "sns.heatmap(confusion_matrix(y_test,pred),annot = True, fmt = 'd')\n",
    "plt.xlabel(\"Predicted Data\")\n",
    "plt.ylabel(\"Actual Data\")\n",
    "plt.show()\n",
    "\n",
    "plt.figure(figsize = (7,4))\n",
    "sns.heatmap(cm_v1, annot = True, fmt = 'd')\n",
    "plt.xlabel(\"Predicted Data\")\n",
    "plt.ylabel(\"Actual Data\")\n",
    "plt.show()\n"
   ]
  },
  {
   "cell_type": "markdown",
   "id": "ba5b0f99",
   "metadata": {},
   "source": [
    "## Conclusion based on Model Performance Metrics\n",
    "\n",
    "The evaluation metrics showcase the performance of multiple models developed during the analysis, focusing on precision, recall, and F1-score for both high and low-risk classes.\n",
    "\n",
    "1. **Model 1:**\n",
    "   - Precision: 0.97 (low risk), 0.06 (high risk)\n",
    "   - Recall: 0.62 (low risk), 0.55 (high risk)\n",
    "   - F1-score: 0.76 (low risk), 0.11 (high risk)\n",
    "   - Accuracy: 0.62\n",
    "\n",
    "2. **Model 2:**\n",
    "   - Precision: 0.86 (low risk), 0.00 (high risk)\n",
    "   - Recall: 1.00 (low risk), 0.00 (high risk)\n",
    "   - F1-score: 0.92 (low risk), 0.00 (high risk)\n",
    "   - Accuracy: 0.86\n",
    "\n",
    "3. **Model 3:**\n",
    "   - Precision: 0.63 (low risk), 0.49 (high risk)\n",
    "   - Recall: 0.96 (low risk), 0.06 (high risk)\n",
    "   - F1-score: 0.76 (low risk), 0.11 (high risk)\n",
    "   - Accuracy: 0.62\n",
    "\n",
    "4. **Model 4:**\n",
    "   - Precision: 0.96 (low risk), 0.06 (high risk)\n",
    "   - Recall: 0.63 (low risk), 0.49 (high risk)\n",
    "   - F1-score: 0.76 (low risk), 0.11 (high risk)\n",
    "   - Accuracy: 0.62\n",
    "\n",
    "5. **Model 5:**\n",
    "   - Precision: 0.88 (low risk), 0.00 (high risk)\n",
    "   - Recall: 1.00 (low risk), 0.00 (high risk)\n",
    "   - F1-score: 0.94 (low risk), 0.00 (high risk)\n",
    "   - Accuracy: 0.88\n",
    "\n",
    "### Analysis and Reflection\n",
    "\n",
    "The models exhibit varying performances. While Model 5 shows high accuracy in predicting low-risk cases, it struggles significantly in identifying high-risk instances. Conversely, Models 1, 3, and 4 demonstrate relatively balanced precision but lack in recall and F1-score for high-risk predictions.\n",
    "\n",
    "The results suggest an imbalance in the dataset's classes, leading to models favoring accuracy by predicting predominantly low-risk instances while neglecting high-risk ones.\n",
    "\n",
    "Further model refinement, exploration of advanced techniques (like oversampling methods), or alternative classifiers are necessary to improve the models' ability to identify high-risk instances, ensuring a robust credit risk assessment system.\n",
    "\n",
    "### Note\n",
    "\n",
    "The presented results are not in chronological order of refinement. Future iterations will focus on addressing class imbalance, enhancing high-risk prediction capabilities & ofcourse using other models like DT, RF,etc."
   ]
  },
  {
   "cell_type": "code",
   "execution_count": null,
   "id": "9cc13d89",
   "metadata": {},
   "outputs": [],
   "source": []
  }
 ],
 "metadata": {
  "kernelspec": {
   "display_name": "Python 3 (ipykernel)",
   "language": "python",
   "name": "python3"
  },
  "language_info": {
   "codemirror_mode": {
    "name": "ipython",
    "version": 3
   },
   "file_extension": ".py",
   "mimetype": "text/x-python",
   "name": "python",
   "nbconvert_exporter": "python",
   "pygments_lexer": "ipython3",
   "version": "3.11.3"
  }
 },
 "nbformat": 4,
 "nbformat_minor": 5
}
